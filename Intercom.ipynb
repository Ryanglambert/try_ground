{
 "cells": [
  {
   "cell_type": "code",
   "execution_count": 34,
   "metadata": {
    "collapsed": false
   },
   "outputs": [
    {
     "name": "stderr",
     "output_type": "stream",
     "text": [
      "/usr/local/lib/python2.7/site-packages/matplotlib/__init__.py:872: UserWarning: axes.color_cycle is deprecated and replaced with axes.prop_cycle; please use the latter.\n",
      "  warnings.warn(self.msg_depr % (key, alt_key))\n"
     ]
    }
   ],
   "source": [
    "import numpy as np\n",
    "import pandas as pd\n",
    "import matplotlib.pyplot as plt\n",
    "import seaborn as sns\n",
    "\n",
    "%matplotlib inline"
   ]
  },
  {
   "cell_type": "code",
   "execution_count": null,
   "metadata": {
    "collapsed": true
   },
   "outputs": [],
   "source": []
  },
  {
   "cell_type": "code",
   "execution_count": null,
   "metadata": {
    "collapsed": false
   },
   "outputs": [],
   "source": []
  },
  {
   "cell_type": "code",
   "execution_count": 32,
   "metadata": {
    "collapsed": false
   },
   "outputs": [],
   "source": [
    "admin_us_all = u'/Users/ryanlambert/Downloads/admins_users all apps with Support.csv'\n",
    "support_only = '/Users/ryanlambert/Downloads/support_only.csv'\n",
    "\n",
    "support_only = pd.DataFrame.from_csv(support_only)\n",
    "admin_us_all = pd.read_csv(open('/Users/ryanlambert/Downloads/admins_users all apps with Support.csv', 'rU'), engine='c')"
   ]
  },
  {
   "cell_type": "code",
   "execution_count": 11,
   "metadata": {
    "collapsed": true
   },
   "outputs": [
    {
     "data": {
      "text/html": [
       "<div>\n",
       "<table border=\"1\" class=\"dataframe\">\n",
       "  <thead>\n",
       "    <tr style=\"text-align: right;\">\n",
       "      <th></th>\n",
       "      <th>user_count</th>\n",
       "      <th>num_admins</th>\n",
       "    </tr>\n",
       "    <tr>\n",
       "      <th>name</th>\n",
       "      <th></th>\n",
       "      <th></th>\n",
       "    </tr>\n",
       "  </thead>\n",
       "  <tbody>\n",
       "    <tr>\n",
       "      <th>Jexia</th>\n",
       "      <td>112</td>\n",
       "      <td>8</td>\n",
       "    </tr>\n",
       "    <tr>\n",
       "      <th>Grabble</th>\n",
       "      <td>75024</td>\n",
       "      <td>13</td>\n",
       "    </tr>\n",
       "    <tr>\n",
       "      <th>Flickitt</th>\n",
       "      <td>10</td>\n",
       "      <td>2</td>\n",
       "    </tr>\n",
       "    <tr>\n",
       "      <th>ActionIQ</th>\n",
       "      <td>3</td>\n",
       "      <td>9</td>\n",
       "    </tr>\n",
       "    <tr>\n",
       "      <th>cvmail</th>\n",
       "      <td>180</td>\n",
       "      <td>10</td>\n",
       "    </tr>\n",
       "    <tr>\n",
       "      <th>Merchbar</th>\n",
       "      <td>54171</td>\n",
       "      <td>10</td>\n",
       "    </tr>\n",
       "    <tr>\n",
       "      <th>Vendorable</th>\n",
       "      <td>35</td>\n",
       "      <td>4</td>\n",
       "    </tr>\n",
       "    <tr>\n",
       "      <th>bitmovin</th>\n",
       "      <td>4897</td>\n",
       "      <td>10</td>\n",
       "    </tr>\n",
       "    <tr>\n",
       "      <th>ReSchedule Med</th>\n",
       "      <td>4</td>\n",
       "      <td>1</td>\n",
       "    </tr>\n",
       "    <tr>\n",
       "      <th>Empresaula</th>\n",
       "      <td>2596</td>\n",
       "      <td>9</td>\n",
       "    </tr>\n",
       "    <tr>\n",
       "      <th>ROMWOD</th>\n",
       "      <td>78</td>\n",
       "      <td>2</td>\n",
       "    </tr>\n",
       "    <tr>\n",
       "      <th>RetSKU</th>\n",
       "      <td>25</td>\n",
       "      <td>5</td>\n",
       "    </tr>\n",
       "    <tr>\n",
       "      <th>Bespoke Insights</th>\n",
       "      <td>7</td>\n",
       "      <td>5</td>\n",
       "    </tr>\n",
       "    <tr>\n",
       "      <th>Converge</th>\n",
       "      <td>11</td>\n",
       "      <td>4</td>\n",
       "    </tr>\n",
       "    <tr>\n",
       "      <th>Customer Support</th>\n",
       "      <td>1</td>\n",
       "      <td>1</td>\n",
       "    </tr>\n",
       "    <tr>\n",
       "      <th>PickFire</th>\n",
       "      <td>69</td>\n",
       "      <td>3</td>\n",
       "    </tr>\n",
       "    <tr>\n",
       "      <th>Pivotal Solutions Ltd.</th>\n",
       "      <td>0</td>\n",
       "      <td>1</td>\n",
       "    </tr>\n",
       "    <tr>\n",
       "      <th>NKApp</th>\n",
       "      <td>41</td>\n",
       "      <td>3</td>\n",
       "    </tr>\n",
       "    <tr>\n",
       "      <th>TAXO'D app</th>\n",
       "      <td>20</td>\n",
       "      <td>3</td>\n",
       "    </tr>\n",
       "    <tr>\n",
       "      <th>Wemark</th>\n",
       "      <td>32</td>\n",
       "      <td>5</td>\n",
       "    </tr>\n",
       "    <tr>\n",
       "      <th>Drync</th>\n",
       "      <td>20596</td>\n",
       "      <td>7</td>\n",
       "    </tr>\n",
       "    <tr>\n",
       "      <th>Mentimeter</th>\n",
       "      <td>49440</td>\n",
       "      <td>10</td>\n",
       "    </tr>\n",
       "    <tr>\n",
       "      <th>Rewealth</th>\n",
       "      <td>31</td>\n",
       "      <td>2</td>\n",
       "    </tr>\n",
       "    <tr>\n",
       "      <th>Idea Labz</th>\n",
       "      <td>9</td>\n",
       "      <td>3</td>\n",
       "    </tr>\n",
       "    <tr>\n",
       "      <th>Rallyon</th>\n",
       "      <td>247</td>\n",
       "      <td>3</td>\n",
       "    </tr>\n",
       "    <tr>\n",
       "      <th>TrendMD</th>\n",
       "      <td>437</td>\n",
       "      <td>3</td>\n",
       "    </tr>\n",
       "    <tr>\n",
       "      <th>Tinymesh Cloud</th>\n",
       "      <td>90</td>\n",
       "      <td>4</td>\n",
       "    </tr>\n",
       "    <tr>\n",
       "      <th>International SOS CHAT</th>\n",
       "      <td>0</td>\n",
       "      <td>1</td>\n",
       "    </tr>\n",
       "    <tr>\n",
       "      <th>Competitor Monitor</th>\n",
       "      <td>179</td>\n",
       "      <td>7</td>\n",
       "    </tr>\n",
       "    <tr>\n",
       "      <th>RetSKU App</th>\n",
       "      <td>12</td>\n",
       "      <td>2</td>\n",
       "    </tr>\n",
       "    <tr>\n",
       "      <th>...</th>\n",
       "      <td>...</td>\n",
       "      <td>...</td>\n",
       "    </tr>\n",
       "    <tr>\n",
       "      <th>PigeonEgg</th>\n",
       "      <td>28</td>\n",
       "      <td>2</td>\n",
       "    </tr>\n",
       "    <tr>\n",
       "      <th>Ebert (from Plataformatec)</th>\n",
       "      <td>4</td>\n",
       "      <td>2</td>\n",
       "    </tr>\n",
       "    <tr>\n",
       "      <th>MyTeamSystem</th>\n",
       "      <td>136</td>\n",
       "      <td>1</td>\n",
       "    </tr>\n",
       "    <tr>\n",
       "      <th>conio</th>\n",
       "      <td>9</td>\n",
       "      <td>2</td>\n",
       "    </tr>\n",
       "    <tr>\n",
       "      <th>PreciseLED</th>\n",
       "      <td>4</td>\n",
       "      <td>1</td>\n",
       "    </tr>\n",
       "    <tr>\n",
       "      <th>FR8nex</th>\n",
       "      <td>18</td>\n",
       "      <td>3</td>\n",
       "    </tr>\n",
       "    <tr>\n",
       "      <th>AOG JOBS</th>\n",
       "      <td>342</td>\n",
       "      <td>11</td>\n",
       "    </tr>\n",
       "    <tr>\n",
       "      <th>Ipso-Facto Perso</th>\n",
       "      <td>4382</td>\n",
       "      <td>7</td>\n",
       "    </tr>\n",
       "    <tr>\n",
       "      <th>JeSuisRiskManager</th>\n",
       "      <td>5</td>\n",
       "      <td>2</td>\n",
       "    </tr>\n",
       "    <tr>\n",
       "      <th>cvskills PROD</th>\n",
       "      <td>21</td>\n",
       "      <td>2</td>\n",
       "    </tr>\n",
       "    <tr>\n",
       "      <th>Jintronix</th>\n",
       "      <td>410</td>\n",
       "      <td>12</td>\n",
       "    </tr>\n",
       "    <tr>\n",
       "      <th>Whym</th>\n",
       "      <td>3137</td>\n",
       "      <td>11</td>\n",
       "    </tr>\n",
       "    <tr>\n",
       "      <th>Illumience NJ</th>\n",
       "      <td>3</td>\n",
       "      <td>2</td>\n",
       "    </tr>\n",
       "    <tr>\n",
       "      <th>IPCHILE</th>\n",
       "      <td>3722</td>\n",
       "      <td>4</td>\n",
       "    </tr>\n",
       "    <tr>\n",
       "      <th>kode.cc</th>\n",
       "      <td>30</td>\n",
       "      <td>2</td>\n",
       "    </tr>\n",
       "    <tr>\n",
       "      <th>Sanapix</th>\n",
       "      <td>7</td>\n",
       "      <td>1</td>\n",
       "    </tr>\n",
       "    <tr>\n",
       "      <th>Wright Brothers, Inc.</th>\n",
       "      <td>793</td>\n",
       "      <td>3</td>\n",
       "    </tr>\n",
       "    <tr>\n",
       "      <th>lcmi.tv</th>\n",
       "      <td>455</td>\n",
       "      <td>2</td>\n",
       "    </tr>\n",
       "    <tr>\n",
       "      <th>split</th>\n",
       "      <td>2</td>\n",
       "      <td>2</td>\n",
       "    </tr>\n",
       "    <tr>\n",
       "      <th>GLX.com</th>\n",
       "      <td>45</td>\n",
       "      <td>1</td>\n",
       "    </tr>\n",
       "    <tr>\n",
       "      <th>Replay</th>\n",
       "      <td>10</td>\n",
       "      <td>1</td>\n",
       "    </tr>\n",
       "    <tr>\n",
       "      <th>Swipes</th>\n",
       "      <td>453918</td>\n",
       "      <td>5</td>\n",
       "    </tr>\n",
       "    <tr>\n",
       "      <th>2btube</th>\n",
       "      <td>479</td>\n",
       "      <td>4</td>\n",
       "    </tr>\n",
       "    <tr>\n",
       "      <th>STN Digital</th>\n",
       "      <td>3</td>\n",
       "      <td>2</td>\n",
       "    </tr>\n",
       "    <tr>\n",
       "      <th>BuddyUp</th>\n",
       "      <td>4868</td>\n",
       "      <td>9</td>\n",
       "    </tr>\n",
       "    <tr>\n",
       "      <th>Smosh Games Alliance</th>\n",
       "      <td>6023</td>\n",
       "      <td>6</td>\n",
       "    </tr>\n",
       "    <tr>\n",
       "      <th>Mintlab BV</th>\n",
       "      <td>5</td>\n",
       "      <td>4</td>\n",
       "    </tr>\n",
       "    <tr>\n",
       "      <th>Birdzi Inc.</th>\n",
       "      <td>263</td>\n",
       "      <td>8</td>\n",
       "    </tr>\n",
       "    <tr>\n",
       "      <th>Downtown</th>\n",
       "      <td>3338</td>\n",
       "      <td>4</td>\n",
       "    </tr>\n",
       "    <tr>\n",
       "      <th>VR Pro</th>\n",
       "      <td>3</td>\n",
       "      <td>1</td>\n",
       "    </tr>\n",
       "  </tbody>\n",
       "</table>\n",
       "<p>263 rows × 2 columns</p>\n",
       "</div>"
      ],
      "text/plain": [
       "                            user_count  num_admins\n",
       "name                                              \n",
       "Jexia                              112           8\n",
       "Grabble                          75024          13\n",
       "Flickitt                            10           2\n",
       "ActionIQ                             3           9\n",
       "cvmail                             180          10\n",
       "Merchbar                         54171          10\n",
       "Vendorable                          35           4\n",
       "bitmovin                          4897          10\n",
       "ReSchedule Med                       4           1\n",
       "Empresaula                        2596           9\n",
       "ROMWOD                              78           2\n",
       "RetSKU                              25           5\n",
       "Bespoke Insights                     7           5\n",
       "Converge                            11           4\n",
       "Customer Support                     1           1\n",
       "PickFire                            69           3\n",
       "Pivotal Solutions Ltd.               0           1\n",
       "NKApp                               41           3\n",
       "TAXO'D app                          20           3\n",
       "Wemark                              32           5\n",
       "Drync                            20596           7\n",
       "Mentimeter                       49440          10\n",
       "Rewealth                            31           2\n",
       "Idea Labz                            9           3\n",
       "Rallyon                            247           3\n",
       "TrendMD                            437           3\n",
       "Tinymesh Cloud                      90           4\n",
       "International SOS CHAT               0           1\n",
       "Competitor Monitor                 179           7\n",
       "RetSKU App                          12           2\n",
       "...                                ...         ...\n",
       "PigeonEgg                           28           2\n",
       "Ebert (from Plataformatec)           4           2\n",
       "MyTeamSystem                       136           1\n",
       "conio                                9           2\n",
       "PreciseLED                           4           1\n",
       "FR8nex                              18           3\n",
       "AOG JOBS                           342          11\n",
       "Ipso-Facto Perso                  4382           7\n",
       "JeSuisRiskManager                    5           2\n",
       "cvskills PROD                       21           2\n",
       "Jintronix                          410          12\n",
       "Whym                              3137          11\n",
       "Illumience NJ                        3           2\n",
       "IPCHILE                           3722           4\n",
       "kode.cc                             30           2\n",
       "Sanapix                              7           1\n",
       "Wright Brothers, Inc.              793           3\n",
       "lcmi.tv                            455           2\n",
       "split                                2           2\n",
       "GLX.com                             45           1\n",
       "Replay                              10           1\n",
       "Swipes                          453918           5\n",
       "2btube                             479           4\n",
       "STN Digital                          3           2\n",
       "BuddyUp                           4868           9\n",
       "Smosh Games Alliance              6023           6\n",
       "Mintlab BV                           5           4\n",
       "Birdzi Inc.                        263           8\n",
       "Downtown                          3338           4\n",
       "VR Pro                               3           1\n",
       "\n",
       "[263 rows x 2 columns]"
      ]
     },
     "execution_count": 11,
     "metadata": {},
     "output_type": "execute_result"
    }
   ],
   "source": [
    "support_only"
   ]
  },
  {
   "cell_type": "code",
   "execution_count": 35,
   "metadata": {
    "collapsed": false
   },
   "outputs": [
    {
     "name": "stderr",
     "output_type": "stream",
     "text": [
      "/usr/local/lib/python2.7/site-packages/matplotlib/__init__.py:892: UserWarning: axes.color_cycle is deprecated and replaced with axes.prop_cycle; please use the latter.\n",
      "  warnings.warn(self.msg_depr % (key, alt_key))\n"
     ]
    },
    {
     "data": {
      "text/plain": [
       "<seaborn.axisgrid.PairGrid at 0x10cfeb910>"
      ]
     },
     "execution_count": 35,
     "metadata": {},
     "output_type": "execute_result"
    },
    {
     "data": {
      "image/png": "[encoded data removed]",
      "text/plain": [
       "<matplotlib.figure.Figure at 0x10afa5590>"
      ]
     },
     "metadata": {},
     "output_type": "display_data"
    }
   ],
   "source": [
    "sns.pairplot(admin_us_all)"
   ]
  },
  {
   "cell_type": "code",
   "execution_count": 59,
   "metadata": {
    "collapsed": false
   },
   "outputs": [
    {
     "data": {
      "text/plain": [
       "(0, 100000.0)"
      ]
     },
     "execution_count": 59,
     "metadata": {},
     "output_type": "execute_result"
    },
    {
     "data": {
      "image/png": "[encoded data removed]",
      "text/plain": [
       "<matplotlib.figure.Figure at 0x10d755790>"
      ]
     },
     "metadata": {},
     "output_type": "display_data"
    }
   ],
   "source": [
    "plt.scatter(admin_us_all['user_count'], admin_us_all['num_admins'])\n",
    "plt.ylim([0, 100])\n",
    "plt.xlim([0, 1e5])"
   ]
  },
  {
   "cell_type": "code",
   "execution_count": 166,
   "metadata": {
    "collapsed": true
   },
   "outputs": [],
   "source": [
    "from sklearn.linear_model import LinearRegression\n",
    "from sklearn.pipeline import make_pipeline\n",
    "from sklearn.preprocessing import PolynomialFeatures\n",
    "from sklearn import cross_validation\n",
    "from sklearn import naive_bayes\n",
    "from sklearn.neighbors import KNeighborsClassifier"
   ]
  },
  {
   "cell_type": "code",
   "execution_count": 191,
   "metadata": {
    "collapsed": false
   },
   "outputs": [],
   "source": [
    "admin_us_all = admin_us_all[['num_admins', 'user_count']]"
   ]
  },
  {
   "cell_type": "markdown",
   "metadata": {},
   "source": [
    "Linear Regression no good"
   ]
  },
  {
   "cell_type": "code",
   "execution_count": 162,
   "metadata": {
    "collapsed": false
   },
   "outputs": [
    {
     "name": "stdout",
     "output_type": "stream",
     "text": [
      "[ -2.23522251e-01  -2.35419611e-02  -1.55884838e-03  -4.36698564e-02\n",
      "  -3.33108722e-02  -7.37269190e-03  -4.25821490e-02  -9.86312718e-02\n",
      "  -4.26983939e+00  -4.59538455e+00] \n",
      "mean is:  -0.93394138502\n"
     ]
    },
    {
     "data": {
      "image/png": "[encoded data removed]",
      "text/plain": [
       "<matplotlib.figure.Figure at 0x10e83fd10>"
      ]
     },
     "metadata": {},
     "output_type": "display_data"
    }
   ],
   "source": [
    "est = make_pipeline(PolynomialFeatures(11), LinearRegression())\n",
    "model = est.fit(admin_us_all['user_count'].reshape(-1, 1), admin_us_all['num_admins'].reshape(-1,1))\n",
    "plt.scatter(admin_us_all['user_count'], admin_us_all['num_admins'])\n",
    "x_space = np.linspace(0, admin_us_all['user_count'].max(), 1000).reshape(-1, 1)\n",
    "y_pred = est.predict(x_space)\n",
    "\n",
    "plt.plot(x_space, y_pred)\n",
    "\n",
    "\n",
    "scores = cross_validation.cross_val_score(\n",
    "    est, admin_us_all['user_count'].reshape(-1,1), admin_us_all['num_admins'],\n",
    "cv=10)\n",
    "print scores, '\\nmean is: ', np.mean(scores)"
   ]
  },
  {
   "cell_type": "code",
   "execution_count": null,
   "metadata": {
    "collapsed": false
   },
   "outputs": [],
   "source": []
  },
  {
   "cell_type": "code",
   "execution_count": 98,
   "metadata": {
    "collapsed": false
   },
   "outputs": [
    {
     "data": {
      "text/plain": [
       "-0.89893721741448385"
      ]
     },
     "execution_count": 98,
     "metadata": {},
     "output_type": "execute_result"
    }
   ],
   "source": [
    "np.mean(scores)"
   ]
  },
  {
   "cell_type": "markdown",
   "metadata": {},
   "source": [
    "Let's try a naive bayes classifier"
   ]
  },
  {
   "cell_type": "code",
   "execution_count": 271,
   "metadata": {
    "collapsed": false
   },
   "outputs": [],
   "source": [
    "def try_model(model, df):\n",
    "    est = make_pipeline(model())\n",
    "    model = est.fit(df['user_count'].reshape(-1, 1), df['num_admins'].reshape(-1,1))\n",
    "    x_space = np.linspace(0, df['user_count'].max(), 1000).reshape(-1, 1)\n",
    "    y_pred = est.predict(x_space)\n",
    "\n",
    "\n",
    "\n",
    "    scores = cross_validation.cross_val_score(est, df['user_count'].reshape(-1,1), df['num_admins'], cv=10)\n",
    "    \n",
    "    print scores, '\\nmean is: ', np.mean(scores)\n",
    "    return x_space, y_pred"
   ]
  },
  {
   "cell_type": "code",
   "execution_count": 297,
   "metadata": {
    "collapsed": true
   },
   "outputs": [],
   "source": [
    "def try_poly(n, df):\n",
    "    est = make_pipeline(PolynomialFeatures(n), LinearRegression())\n",
    "    model = est.fit(df['user_count'].reshape(-1, 1), df['num_admins'].reshape(-1,1))\n",
    "    x_space = np.linspace(0, df['user_count'].max(), 1000).reshape(-1, 1)\n",
    "    y_pred = est.predict(x_space)\n",
    "\n",
    "    scores = cross_validation.cross_val_score(est, df['user_count'].reshape(-1,1), df['num_admins'], cv=10)\n",
    "    \n",
    "    print scores, '\\nmean is: ', np.mean(scores)\n",
    "    return x_space, y_pred"
   ]
  },
  {
   "cell_type": "code",
   "execution_count": 148,
   "metadata": {
    "collapsed": false
   },
   "outputs": [
    {
     "data": {
      "text/plain": [
       "<matplotlib.collections.PolyCollection at 0x10e057290>"
      ]
     },
     "execution_count": 148,
     "metadata": {},
     "output_type": "execute_result"
    },
    {
     "data": {
      "image/png": "[encoded data removed]",
      "text/plain": [
       "<matplotlib.figure.Figure at 0x10e7fab50>"
      ]
     },
     "metadata": {},
     "output_type": "display_data"
    }
   ],
   "source": [
    "plt.scatter(admin_us_all['user_count'], admin_us_all['num_admins'])\n",
    "plt.plot(x_space, y_pred)\n",
    "# plt.xlim([6e4, 8e4])\n",
    "# plt.ylim([0, 100])\n",
    "plt.hexbin(admin_us_all['user_count'], admin_us_all['num_admins'])"
   ]
  },
  {
   "cell_type": "markdown",
   "metadata": {},
   "source": [
    "Ok we will split into \"big companies and small companies"
   ]
  },
  {
   "cell_type": "code",
   "execution_count": 150,
   "metadata": {
    "collapsed": false
   },
   "outputs": [
    {
     "data": {
      "text/plain": [
       "(0, 100000.0)"
      ]
     },
     "execution_count": 150,
     "metadata": {},
     "output_type": "execute_result"
    },
    {
     "data": {
      "image/png": "[encoded data removed]",
      "text/plain": [
       "<matplotlib.figure.Figure at 0x10b1dfbd0>"
      ]
     },
     "metadata": {},
     "output_type": "display_data"
    }
   ],
   "source": [
    "plt.hexbin(admin_us_all['user_count'], admin_us_all['num_admins'])\n",
    "plt.xlim([0, 1e5])"
   ]
  },
  {
   "cell_type": "code",
   "execution_count": 177,
   "metadata": {
    "collapsed": true
   },
   "outputs": [],
   "source": [
    "from sklearn.svm import SVC"
   ]
  },
  {
   "cell_type": "code",
   "execution_count": 188,
   "metadata": {
    "collapsed": false
   },
   "outputs": [],
   "source": [
    "df = pd.DataFrame({\"a\": np.random.random(100),\n",
    "                       \"b\": np.random.random(100),\n",
    "                       \"id\": np.arange(100)})\n",
    "\n",
    "# Bin the data frame by \"a\" with 10 bins...\n",
    "bins = np.linspace(df.a.min(), df.a.max(), 10)\n",
    "groups = df.groupby(np.digitize(df.a, bins))"
   ]
  },
  {
   "cell_type": "markdown",
   "metadata": {},
   "source": [
    "Let's add a feature that sort of quantifies what group of business you belong to.  \n",
    "\n",
    "There are businesses that have many users per admin.  We should consider this fact.  "
   ]
  },
  {
   "cell_type": "code",
   "execution_count": 193,
   "metadata": {
    "collapsed": false
   },
   "outputs": [],
   "source": [
    "admin_us_all['ad_per_us'] = admin_us_all['user_count'] / admin_us_all['num_admins']"
   ]
  },
  {
   "cell_type": "code",
   "execution_count": 230,
   "metadata": {
    "collapsed": false
   },
   "outputs": [],
   "source": [
    "bins = np.linspace(admin_us_all['ad_per_us'].min(), admin_us_all['ad_per_us'].max(), 1000)\n",
    "groups = admin_us_all.groupby(np.digitize(admin_us_all['ad_per_us'], bins), as_index=False)"
   ]
  },
  {
   "cell_type": "code",
   "execution_count": 231,
   "metadata": {
    "collapsed": true
   },
   "outputs": [
    {
     "name": "stdout",
     "output_type": "stream",
     "text": [
      "5117\n",
      "470\n",
      "207\n",
      "122\n",
      "73\n",
      "49\n",
      "29\n",
      "14\n",
      "27\n",
      "25\n",
      "8\n",
      "12\n",
      "12\n",
      "8\n",
      "5\n",
      "8\n",
      "5\n",
      "5\n",
      "3\n",
      "4\n",
      "2\n",
      "2\n",
      "3\n",
      "3\n",
      "2\n",
      "1\n",
      "3\n",
      "1\n",
      "1\n",
      "1\n",
      "2\n",
      "1\n",
      "3\n",
      "2\n",
      "1\n",
      "1\n",
      "1\n",
      "1\n",
      "2\n",
      "1\n",
      "1\n",
      "1\n",
      "1\n",
      "1\n",
      "1\n",
      "1\n",
      "1\n",
      "1\n",
      "1\n",
      "1\n",
      "1\n",
      "1\n",
      "1\n",
      "1\n",
      "1\n",
      "1\n",
      "1\n",
      "1\n",
      "1\n",
      "1\n",
      "1\n"
     ]
    }
   ],
   "source": [
    "for i, df in groups:\n",
    "    print len(df)"
   ]
  },
  {
   "cell_type": "markdown",
   "metadata": {},
   "source": [
    "We log binned them into seperate bins based on \"Admins\" per User"
   ]
  },
  {
   "cell_type": "code",
   "execution_count": 285,
   "metadata": {
    "collapsed": false
   },
   "outputs": [
    {
     "name": "stdout",
     "output_type": "stream",
     "text": [
      "227\n",
      "6031\n"
     ]
    }
   ],
   "source": [
    "bins = np.logspace(admin_us_all['ad_per_us'].min(), admin_us_all['ad_per_us'].max(), 2)\n",
    "groups = admin_us_all.groupby(np.digitize(admin_us_all['ad_per_us'], bins), as_index=False)\n",
    "for i, df in groups:\n",
    "    print len(df)"
   ]
  },
  {
   "cell_type": "code",
   "execution_count": 291,
   "metadata": {
    "collapsed": false
   },
   "outputs": [
    {
     "data": {
      "text/html": [
       "<div>\n",
       "<table border=\"1\" class=\"dataframe\">\n",
       "  <thead>\n",
       "    <tr style=\"text-align: right;\">\n",
       "      <th></th>\n",
       "      <th>num_admins</th>\n",
       "      <th>user_count</th>\n",
       "      <th>ad_per_us</th>\n",
       "    </tr>\n",
       "  </thead>\n",
       "  <tbody>\n",
       "    <tr>\n",
       "      <th>0</th>\n",
       "      <td>3.872247</td>\n",
       "      <td>1.400881</td>\n",
       "      <td>0.197710</td>\n",
       "    </tr>\n",
       "    <tr>\n",
       "      <th>1</th>\n",
       "      <td>6.432930</td>\n",
       "      <td>12315.012104</td>\n",
       "      <td>1595.497878</td>\n",
       "    </tr>\n",
       "  </tbody>\n",
       "</table>\n",
       "</div>"
      ],
      "text/plain": [
       "   num_admins    user_count    ad_per_us\n",
       "0    3.872247      1.400881     0.197710\n",
       "1    6.432930  12315.012104  1595.497878"
      ]
     },
     "execution_count": 291,
     "metadata": {},
     "output_type": "execute_result"
    }
   ],
   "source": [
    "groups.mean()"
   ]
  },
  {
   "cell_type": "code",
   "execution_count": 293,
   "metadata": {
    "collapsed": false
   },
   "outputs": [
    {
     "name": "stdout",
     "output_type": "stream",
     "text": [
      "[ 0.3030303   0.35714286  0.4         0.54545455  0.52380952  0.57142857\n",
      "  0.5         0.52631579  0.52631579  0.57894737] \n",
      "mean is:  0.483244474823\n"
     ]
    },
    {
     "name": "stderr",
     "output_type": "stream",
     "text": [
      "/usr/local/lib/python2.7/site-packages/sklearn/utils/validation.py:515: DataConversionWarning: A column-vector y was passed when a 1d array was expected. Please change the shape of y to (n_samples, ), for example using ravel().\n",
      "  y = column_or_1d(y, warn=True)\n"
     ]
    },
    {
     "data": {
      "image/png": "[encoded data removed]",
      "text/plain": [
       "<matplotlib.figure.Figure at 0x10d9c44d0>"
      ]
     },
     "metadata": {},
     "output_type": "display_data"
    },
    {
     "name": "stdout",
     "output_type": "stream",
     "text": [
      "[ 0.13157895  0.13709677  0.13843648  0.14026403  0.14119601  0.14285714\n",
      "  0.14333895  0.14310051  0.14334471  0.1443299 ] \n",
      "mean is:  0.140554345854\n"
     ]
    },
    {
     "name": "stderr",
     "output_type": "stream",
     "text": [
      "/usr/local/lib/python2.7/site-packages/sklearn/utils/validation.py:515: DataConversionWarning: A column-vector y was passed when a 1d array was expected. Please change the shape of y to (n_samples, ), for example using ravel().\n",
      "  y = column_or_1d(y, warn=True)\n"
     ]
    },
    {
     "data": {
      "image/png": "[encoded data removed]",
      "text/plain": [
       "<matplotlib.figure.Figure at 0x10f616fd0>"
      ]
     },
     "metadata": {},
     "output_type": "display_data"
    }
   ],
   "source": [
    "for i, df in groups: \n",
    "    try:\n",
    "        x_space, y_pred = try_model(naive_bayes.BernoulliNB, df)\n",
    "    except ValueError:\n",
    "        print \"nothing to see here\"\n",
    "    plt.scatter(df['user_count'], df['num_admins'])\n",
    "    plt.plot(x_space, y_pred)\n",
    "    plt.show()"
   ]
  },
  {
   "cell_type": "code",
   "execution_count": null,
   "metadata": {
    "collapsed": true
   },
   "outputs": [],
   "source": []
  },
  {
   "cell_type": "code",
   "execution_count": null,
   "metadata": {
    "collapsed": true
   },
   "outputs": [],
   "source": []
  },
  {
   "cell_type": "code",
   "execution_count": 309,
   "metadata": {
    "collapsed": false
   },
   "outputs": [
    {
     "name": "stdout",
     "output_type": "stream",
     "text": [
      "227\n",
      "784\n",
      "1962\n",
      "2257\n",
      "920\n",
      "96\n",
      "12\n"
     ]
    }
   ],
   "source": [
    "bins = np.logspace(admin_us_all['ad_per_us'].min(), admin_us_all['ad_per_us'].max()/100000, 10)\n",
    "groups = admin_us_all.groupby(np.digitize(admin_us_all['ad_per_us'], bins), as_index=False)\n",
    "for i, df in groups:\n",
    "    print len(df)"
   ]
  },
  {
   "cell_type": "markdown",
   "metadata": {},
   "source": [
    "Let's try linear Regression again"
   ]
  },
  {
   "cell_type": "code",
   "execution_count": 312,
   "metadata": {
    "collapsed": false
   },
   "outputs": [
    {
     "data": {
      "text/plain": [
       "array([  1.00000000e+00,   1.01819188e+01,   1.03671471e+02,\n",
       "         1.05557450e+03,   1.07477738e+04,   1.09432960e+05,\n",
       "         1.11423752e+06,   1.13450759e+07,   1.15514642e+08,\n",
       "         1.17616071e+09])"
      ]
     },
     "execution_count": 312,
     "metadata": {},
     "output_type": "execute_result"
    }
   ],
   "source": [
    "bins"
   ]
  },
  {
   "cell_type": "code",
   "execution_count": 311,
   "metadata": {
    "collapsed": false,
    "scrolled": false
   },
   "outputs": [
    {
     "name": "stdout",
     "output_type": "stream",
     "text": [
      "[ 0.14831099  0.57110898  0.87701384  0.13838619  0.92162746 -0.17817262\n",
      " -0.35548384 -0.050994    0.31013554 -0.0223648 ] \n",
      "mean is:  0.235956773546\n"
     ]
    },
    {
     "data": {
      "image/png": "[encoded data removed]",
      "text/plain": [
       "<matplotlib.figure.Figure at 0x10f08ce50>"
      ]
     },
     "metadata": {},
     "output_type": "display_data"
    },
    {
     "name": "stdout",
     "output_type": "stream",
     "text": [
      "[ 0.75237919  0.73506249  0.79277261  0.64226388  0.75489633  0.47324522\n",
      "  0.4307209   0.47838492  0.36898255  0.30956921] \n",
      "mean is:  0.573827729316\n"
     ]
    },
    {
     "data": {
      "image/png": "[encoded data removed]",
      "text/plain": [
       "<matplotlib.figure.Figure at 0x10e695390>"
      ]
     },
     "metadata": {},
     "output_type": "display_data"
    },
    {
     "name": "stdout",
     "output_type": "stream",
     "text": [
      "[ 0.68319967  0.76291509  0.50115678  0.6113589   0.53133458  0.78477772\n",
      "  0.95313315  0.48432278  0.08501967  0.15122033] \n",
      "mean is:  0.554843867382\n"
     ]
    },
    {
     "data": {
      "image/png": "[encoded data removed]",
      "text/plain": [
       "<matplotlib.figure.Figure at 0x10f6a4750>"
      ]
     },
     "metadata": {},
     "output_type": "display_data"
    },
    {
     "name": "stdout",
     "output_type": "stream",
     "text": [
      "[ 0.67768424  0.38001675  0.43829965  0.46830601  0.62450773  0.50784496\n",
      "  0.57256109  0.53723327 -0.82498941 -0.73289401] \n",
      "mean is:  0.264857027046\n"
     ]
    },
    {
     "data": {
      "image/png": "[encoded data removed]",
      "text/plain": [
       "<matplotlib.figure.Figure at 0x10f6d32d0>"
      ]
     },
     "metadata": {},
     "output_type": "display_data"
    },
    {
     "name": "stdout",
     "output_type": "stream",
     "text": [
      "[ 0.44825294  0.41137839  0.468008    0.69684738  0.5538362   0.38271644\n",
      "  0.25906447  0.54013581 -0.38904931 -1.35330118] \n",
      "mean is:  0.201788914726\n"
     ]
    },
    {
     "data": {
      "image/png": "[encoded data removed]",
      "text/plain": [
       "<matplotlib.figure.Figure at 0x10f6d3210>"
      ]
     },
     "metadata": {},
     "output_type": "display_data"
    },
    {
     "name": "stdout",
     "output_type": "stream",
     "text": [
      "[ 0.39056712  0.36057239  0.20092516  0.49807852  0.63321594  0.92412423\n",
      "  0.85776194 -1.59726964  0.12934431 -0.40655267] \n",
      "mean is:  0.199076728777\n"
     ]
    },
    {
     "data": {
      "image/png": "[encoded data removed]",
      "text/plain": [
       "<matplotlib.figure.Figure at 0x10f71a910>"
      ]
     },
     "metadata": {},
     "output_type": "display_data"
    },
    {
     "name": "stdout",
     "output_type": "stream",
     "text": [
      "[-0.04520356  0.29080613  0.          0.          0.          0.          0.\n",
      "  0.          0.          0.        ] \n",
      "mean is:  0.0245602576619\n"
     ]
    },
    {
     "data": {
      "image/png": "[encoded data removed]",
      "text/plain": [
       "<matplotlib.figure.Figure at 0x10b7f9e10>"
      ]
     },
     "metadata": {},
     "output_type": "display_data"
    }
   ],
   "source": [
    "for i, df in groups: \n",
    "    try:\n",
    "        x_space, y_pred = try_poly(1, df)\n",
    "    except ValueError:\n",
    "        print \"nothing to see here\"\n",
    "    plt.scatter(df['user_count'], df['num_admins'])\n",
    "    plt.plot(x_space, y_pred)\n",
    "    plt.show()"
   ]
  },
  {
   "cell_type": "code",
   "execution_count": 315,
   "metadata": {
    "collapsed": false
   },
   "outputs": [],
   "source": [
    "ad_us_more1 = admin_us_all[admin_us_all['ad_per_us'] > 1]"
   ]
  },
  {
   "cell_type": "code",
   "execution_count": 317,
   "metadata": {
    "collapsed": false
   },
   "outputs": [
    {
     "name": "stdout",
     "output_type": "stream",
     "text": [
      "[ -2.38094567e-02   5.69782775e-03   1.83411647e-02   9.31336216e-03\n",
      "  -1.18838472e-02   3.66622693e-03  -2.76514635e-02   7.72703083e-03\n",
      "  -4.48361267e+00  -4.59962017e+00] \n",
      "mean is:  -0.910183199863\n"
     ]
    },
    {
     "data": {
      "image/png": "[encoded data removed]",
      "text/plain": [
       "<matplotlib.figure.Figure at 0x10f7e7a50>"
      ]
     },
     "metadata": {},
     "output_type": "display_data"
    }
   ],
   "source": [
    "x_space, y_pred = try_poly(1, ad_us_more1)\n",
    "plt.scatter(ad_us_more1['user_count'], ad_us_more1['num_admins'])\n",
    "plt.plot(x_space, y_pred)\n",
    "plt.show()"
   ]
  },
  {
   "cell_type": "code",
   "execution_count": null,
   "metadata": {
    "collapsed": true
   },
   "outputs": [],
   "source": []
  },
  {
   "cell_type": "code",
   "execution_count": null,
   "metadata": {
    "collapsed": true
   },
   "outputs": [],
   "source": []
  },
  {
   "cell_type": "code",
   "execution_count": null,
   "metadata": {
    "collapsed": true
   },
   "outputs": [],
   "source": []
  },
  {
   "cell_type": "code",
   "execution_count": null,
   "metadata": {
    "collapsed": true
   },
   "outputs": [],
   "source": []
  },
  {
   "cell_type": "code",
   "execution_count": null,
   "metadata": {
    "collapsed": true
   },
   "outputs": [],
   "source": []
  },
  {
   "cell_type": "code",
   "execution_count": null,
   "metadata": {
    "collapsed": true
   },
   "outputs": [],
   "source": []
  },
  {
   "cell_type": "code",
   "execution_count": null,
   "metadata": {
    "collapsed": true
   },
   "outputs": [],
   "source": []
  },
  {
   "cell_type": "code",
   "execution_count": null,
   "metadata": {
    "collapsed": true
   },
   "outputs": [],
   "source": []
  },
  {
   "cell_type": "code",
   "execution_count": null,
   "metadata": {
    "collapsed": true
   },
   "outputs": [],
   "source": []
  },
  {
   "cell_type": "code",
   "execution_count": null,
   "metadata": {
    "collapsed": true
   },
   "outputs": [],
   "source": []
  },
  {
   "cell_type": "code",
   "execution_count": null,
   "metadata": {
    "collapsed": true
   },
   "outputs": [],
   "source": []
  },
  {
   "cell_type": "code",
   "execution_count": null,
   "metadata": {
    "collapsed": true
   },
   "outputs": [],
   "source": []
  },
  {
   "cell_type": "code",
   "execution_count": null,
   "metadata": {
    "collapsed": true
   },
   "outputs": [],
   "source": []
  },
  {
   "cell_type": "code",
   "execution_count": null,
   "metadata": {
    "collapsed": true
   },
   "outputs": [],
   "source": []
  },
  {
   "cell_type": "code",
   "execution_count": null,
   "metadata": {
    "collapsed": true
   },
   "outputs": [],
   "source": []
  },
  {
   "cell_type": "code",
   "execution_count": null,
   "metadata": {
    "collapsed": true
   },
   "outputs": [],
   "source": []
  },
  {
   "cell_type": "code",
   "execution_count": null,
   "metadata": {
    "collapsed": true
   },
   "outputs": [],
   "source": []
  },
  {
   "cell_type": "code",
   "execution_count": null,
   "metadata": {
    "collapsed": true
   },
   "outputs": [],
   "source": []
  }
 ],
 "metadata": {
  "kernelspec": {
   "display_name": "Python 2",
   "language": "python",
   "name": "python2"
  },
  "language_info": {
   "codemirror_mode": {
    "name": "ipython",
    "version": 2
   },
   "file_extension": ".py",
   "mimetype": "text/x-python",
   "name": "python",
   "nbconvert_exporter": "python",
   "pygments_lexer": "ipython2",
   "version": "2.7.9"
  }
 },
 "nbformat": 4,
 "nbformat_minor": 0
}
