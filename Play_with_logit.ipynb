{
 "cells": [
  {
   "cell_type": "markdown",
   "metadata": {},
   "source": [
    "Play with GLM for Logit Functions"
   ]
  },
  {
   "cell_type": "code",
   "execution_count": 115,
   "metadata": {
    "collapsed": false
   },
   "outputs": [],
   "source": [
    "import pandas as pd\n",
    "import numpy as np\n",
    "import matplotlib.pyplot as plt\n",
    "from sklearn.linear_model import LinearRegression\n",
    "%matplotlib inline"
   ]
  },
  {
   "cell_type": "code",
   "execution_count": 266,
   "metadata": {
    "collapsed": false
   },
   "outputs": [],
   "source": [
    "def logistic(X):\n",
    "    return 1/(1 + np.e ** (-X))\n",
    "\n",
    "def logit(X):\n",
    "    return np.log((X/(1-X)))\n",
    "\n",
    "X = np.random.rand(100)\n",
    "def make_some_ys(X):\n",
    "    if X < .3:\n",
    "        return 0.00001\n",
    "    if X >= .3:\n",
    "        return .99999\n",
    "y = map(make_some_ys, X)\n",
    "lm = LinearRegression()"
   ]
  },
  {
   "cell_type": "markdown",
   "metadata": {},
   "source": [
    "If we have logistically distributed data (if that can be said :)) then we logit the y's to get it into linear space so we can fit it.  "
   ]
  },
  {
   "cell_type": "code",
   "execution_count": 278,
   "metadata": {
    "collapsed": false
   },
   "outputs": [
    {
     "name": "stdout",
     "output_type": "stream",
     "text": [
      "logit to transform to linear space, then fit!\n",
      "applying logit to the y's is the same as applying logistic to the x's because logistic and logit are inverses of one another\n"
     ]
    },
    {
     "data": {
      "image/png": "[encoded data removed]",
      "text/plain": [
       "<matplotlib.figure.Figure at 0x121fa95d0>"
      ]
     },
     "metadata": {},
     "output_type": "display_data"
    }
   ],
   "source": [
    "X = np.linspace(-9, 9, 1000)\n",
    "# plt.scatter(X, logit(X))\n",
    "# plt.plot(X, logistic(X), color='blue', label='logistic')\n",
    "# plt.plot(X, logit(X), color='red', label='logit')\n",
    "# plt.plot(X, X, label='identity', color='green')\n",
    "plt.plot(X, logistic(X), label='logically distributed', color='black')\n",
    "plt.plot(X, logit(logistic(X)), label='apply logit to ys', color='blue')\n",
    "plt.plot(logistic(X), logistic(X), label='apply logistic to xs', color='green', linewidth=3)\n",
    "plt.legend()\n",
    "print \"logit to transform to linear space, then fit!\"\n",
    "print \"applying logit to the y's is the same as applying logistic to the x's because logistic and logit are inverses of one another\""
   ]
  },
  {
   "cell_type": "markdown",
   "metadata": {},
   "source": [
    "# Too hard, let's try following an example from wikipedia"
   ]
  },
  {
   "cell_type": "markdown",
   "metadata": {},
   "source": [
    "How bout we just transform a line first? "
   ]
  },
  {
   "cell_type": "code",
   "execution_count": 332,
   "metadata": {
    "collapsed": false
   },
   "outputs": [
    {
     "data": {
      "text/plain": [
       "<matplotlib.legend.Legend at 0x12446f450>"
      ]
     },
     "execution_count": 332,
     "metadata": {},
     "output_type": "execute_result"
    },
    {
     "data": {
      "image/png": "[encoded data removed]",
      "text/plain": [
       "<matplotlib.figure.Figure at 0x123059b50>"
      ]
     },
     "metadata": {},
     "output_type": "display_data"
    }
   ],
   "source": [
    "X = np.random.rand(1000)\n",
    "X_logistic = logistic(X).reshape(-1, 1)\n",
    "y = map(make_some_ys, X)\n",
    "\n",
    "plt.scatter(X, y, label='logical data', color='green')\n",
    "plt.scatter(X_logistic, y, label='logistical transformed X\\'s', color='red')\n",
    "lm.fit(X_logistic, y)\n",
    "\n",
    "x_space_ltr = np.linspace(min(X_logistic), max(X_logistic), 100).reshape(-1, 1)\n",
    "y_pred_ltr = lm.predict(x_space_ltr)\n",
    "plt.plot(x_space_ltr, y_pred_ltr, label='fit_linear_space', color='red')\n",
    "\n",
    "plt.legend(loc=7)"
   ]
  },
  {
   "cell_type": "code",
   "execution_count": null,
   "metadata": {
    "collapsed": true
   },
   "outputs": [],
   "source": []
  },
  {
   "cell_type": "markdown",
   "metadata": {},
   "source": [
    "What happens when I transform the X axis with logistic?"
   ]
  },
  {
   "cell_type": "code",
   "execution_count": null,
   "metadata": {
    "collapsed": true
   },
   "outputs": [],
   "source": []
  },
  {
   "cell_type": "code",
   "execution_count": null,
   "metadata": {
    "collapsed": true
   },
   "outputs": [],
   "source": []
  },
  {
   "cell_type": "code",
   "execution_count": null,
   "metadata": {
    "collapsed": true
   },
   "outputs": [],
   "source": []
  }
 ],
 "metadata": {
  "kernelspec": {
   "display_name": "Python 2",
   "language": "python",
   "name": "python2"
  },
  "language_info": {
   "codemirror_mode": {
    "name": "ipython",
    "version": 2
   },
   "file_extension": ".py",
   "mimetype": "text/x-python",
   "name": "python",
   "nbconvert_exporter": "python",
   "pygments_lexer": "ipython2",
   "version": "2.7.9"
  }
 },
 "nbformat": 4,
 "nbformat_minor": 0
}
