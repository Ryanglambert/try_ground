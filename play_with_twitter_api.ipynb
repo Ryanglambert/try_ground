{
 "cells": [
  {
   "cell_type": "code",
   "execution_count": 3,
   "metadata": {
    "collapsed": false
   },
   "outputs": [],
   "source": [
    "import requests\n",
    "from requests_oauthlib import OAuth1 \n",
    "### simple way to publish and interact with .twitter_config"
   ]
  },
  {
   "cell_type": "code",
   "execution_count": 4,
   "metadata": {
    "collapsed": false
   },
   "outputs": [
    {
     "data": {
      "text/plain": [
       "'/Users/ryanlambert'"
      ]
     },
     "execution_count": 4,
     "metadata": {},
     "output_type": "execute_result"
    }
   ],
   "source": [
    "# retreive home directory\n",
    "from os.path import expanduser\n",
    "home = expanduser('~')\n",
    "home"
   ]
  },
  {
   "cell_type": "code",
   "execution_count": 6,
   "metadata": {
    "collapsed": true
   },
   "outputs": [],
   "source": [
    "# Importing our Config\n",
    "# pip install cnfg"
   ]
  },
  {
   "cell_type": "code",
   "execution_count": 13,
   "metadata": {
    "collapsed": false
   },
   "outputs": [],
   "source": [
    "import cnfg\n",
    "config = cnfg.load(home + \"/.twitter/.twitter_config\")\n",
    "\n",
    "oauth = OAuth1(config[\"consumer_key\"],\n",
    "               config[\"consumer_secret\"],\n",
    "               config[\"access_token\"],\n",
    "               config[\"access_token_secret\"])"
   ]
  },
  {
   "cell_type": "markdown",
   "metadata": {},
   "source": [
    "# Interacting with Twitter through Requests"
   ]
  },
  {
   "cell_type": "code",
   "execution_count": 27,
   "metadata": {
    "collapsed": false
   },
   "outputs": [
    {
     "name": "stdout",
     "output_type": "stream",
     "text": [
      "contributors\n",
      "truncated\n",
      "text\n",
      "is_quote_status\n",
      "in_reply_to_status_id\n",
      "id\n",
      "favorite_count\n",
      "source\n",
      "retweeted\n",
      "coordinates\n",
      "entities\n",
      "in_reply_to_screen_name\n",
      "id_str\n",
      "retweet_count\n",
      "in_reply_to_user_id\n",
      "favorited\n",
      "retweeted_status\n",
      "user\n",
      "geo\n",
      "in_reply_to_user_id_str\n",
      "lang\n",
      "created_at\n",
      "in_reply_to_status_id_str\n",
      "place\n"
     ]
    }
   ],
   "source": [
    "response = requests.get(\"https://api.twitter.com/1.1/statuses/user_timeline.json\",\n",
    "                        auth=oauth)\n",
    "\n",
    "tweets = response.json()\n",
    "\n",
    "for key in tweets[0].keys():\n",
    "    print key\n",
    "    "
   ]
  },
  {
   "cell_type": "code",
   "execution_count": 40,
   "metadata": {
    "collapsed": false
   },
   "outputs": [
    {
     "data": {
      "text/plain": [
       "{u'contributors': None,\n",
       " u'coordinates': None,\n",
       " u'created_at': u'Mon Feb 29 00:26:48 +0000 2016',\n",
       " u'entities': {u'hashtags': [{u'indices': [15, 23], u'text': u'Falcon9'}],\n",
       "  u'symbols': [],\n",
       "  u'urls': [],\n",
       "  u'user_mentions': [{u'id': 760259214,\n",
       "    u'id_str': u'760259214',\n",
       "    u'indices': [3, 13],\n",
       "    u'name': u'Spaceflight101 LIVE',\n",
       "    u'screen_name': u'S101_Live'}]},\n",
       " u'favorite_count': 0,\n",
       " u'favorited': True,\n",
       " u'geo': None,\n",
       " u'id': 704100472680873984,\n",
       " u'id_str': u'704100472680873984',\n",
       " u'in_reply_to_screen_name': None,\n",
       " u'in_reply_to_status_id': None,\n",
       " u'in_reply_to_status_id_str': None,\n",
       " u'in_reply_to_user_id': None,\n",
       " u'in_reply_to_user_id_str': None,\n",
       " u'is_quote_status': False,\n",
       " u'lang': u'en',\n",
       " u'place': None,\n",
       " u'retweet_count': 33,\n",
       " u'retweeted': True,\n",
       " u'retweeted_status': {u'contributors': None,\n",
       "  u'coordinates': None,\n",
       "  u'created_at': u'Mon Feb 29 00:25:18 +0000 2016',\n",
       "  u'entities': {u'hashtags': [{u'indices': [0, 8], u'text': u'Falcon9'}],\n",
       "   u'symbols': [],\n",
       "   u'urls': [],\n",
       "   u'user_mentions': []},\n",
       "  u'favorite_count': 21,\n",
       "  u'favorited': True,\n",
       "  u'geo': None,\n",
       "  u'id': 704100091968266240,\n",
       "  u'id_str': u'704100091968266240',\n",
       "  u'in_reply_to_screen_name': None,\n",
       "  u'in_reply_to_status_id': None,\n",
       "  u'in_reply_to_status_id_str': None,\n",
       "  u'in_reply_to_user_id': None,\n",
       "  u'in_reply_to_user_id_str': None,\n",
       "  u'is_quote_status': False,\n",
       "  u'lang': u'en',\n",
       "  u'place': None,\n",
       "  u'retweet_count': 33,\n",
       "  u'retweeted': True,\n",
       "  u'source': u'<a href=\"http://twitter.com\" rel=\"nofollow\">Twitter Web Client</a>',\n",
       "  u'text': u'#Falcon9 has the luxury of a hold-down system, allowing for checks of the engines during thrust build-up before committing F9 to flight.',\n",
       "  u'truncated': False,\n",
       "  u'user': {u'contributors_enabled': False,\n",
       "   u'created_at': u'Wed Aug 15 22:06:02 +0000 2012',\n",
       "   u'default_profile': False,\n",
       "   u'default_profile_image': False,\n",
       "   u'description': u'@Spaceflight101 Live Feed - Real-Time Play-by-Play of major Spaceflight Events, focused on Technical Aspects. For Space Station Live Coverage, go to @ISS101.',\n",
       "   u'entities': {u'description': {u'urls': []},\n",
       "    u'url': {u'urls': [{u'display_url': u'spaceflight101live.com',\n",
       "       u'expanded_url': u'http://www.spaceflight101live.com',\n",
       "       u'indices': [0, 20],\n",
       "       u'url': u'http://t.co/d5p4vUGy'}]}},\n",
       "   u'favourites_count': 8,\n",
       "   u'follow_request_sent': False,\n",
       "   u'followers_count': 3240,\n",
       "   u'following': False,\n",
       "   u'friends_count': 265,\n",
       "   u'geo_enabled': True,\n",
       "   u'has_extended_profile': False,\n",
       "   u'id': 760259214,\n",
       "   u'id_str': u'760259214',\n",
       "   u'is_translation_enabled': False,\n",
       "   u'is_translator': False,\n",
       "   u'lang': u'en',\n",
       "   u'listed_count': 240,\n",
       "   u'location': u'',\n",
       "   u'name': u'Spaceflight101 LIVE',\n",
       "   u'notifications': False,\n",
       "   u'profile_background_color': u'C0DEED',\n",
       "   u'profile_background_image_url': u'http://pbs.twimg.com/profile_background_images/634291956/so6aekryhzqm5caak3f3.jpeg',\n",
       "   u'profile_background_image_url_https': u'https://pbs.twimg.com/profile_background_images/634291956/so6aekryhzqm5caak3f3.jpeg',\n",
       "   u'profile_background_tile': False,\n",
       "   u'profile_banner_url': u'https://pbs.twimg.com/profile_banners/760259214/1385404629',\n",
       "   u'profile_image_url': u'http://pbs.twimg.com/profile_images/2508984173/8o125ll9wmyw337oefgr_normal.jpeg',\n",
       "   u'profile_image_url_https': u'https://pbs.twimg.com/profile_images/2508984173/8o125ll9wmyw337oefgr_normal.jpeg',\n",
       "   u'profile_link_color': u'0084B4',\n",
       "   u'profile_sidebar_border_color': u'C0DEED',\n",
       "   u'profile_sidebar_fill_color': u'DDEEF6',\n",
       "   u'profile_text_color': u'333333',\n",
       "   u'profile_use_background_image': True,\n",
       "   u'protected': False,\n",
       "   u'screen_name': u'S101_Live',\n",
       "   u'statuses_count': 14854,\n",
       "   u'time_zone': u'Athens',\n",
       "   u'url': u'http://t.co/d5p4vUGy',\n",
       "   u'utc_offset': 7200,\n",
       "   u'verified': False}},\n",
       " u'source': u'<a href=\"http://twitter.com\" rel=\"nofollow\">Twitter Web Client</a>',\n",
       " u'text': u'RT @S101_Live: #Falcon9 has the luxury of a hold-down system, allowing for checks of the engines during thrust build-up before committing F\\u2026',\n",
       " u'truncated': False,\n",
       " u'user': {u'contributors_enabled': False,\n",
       "  u'created_at': u'Fri May 27 21:43:59 +0000 2011',\n",
       "  u'default_profile': False,\n",
       "  u'default_profile_image': False,\n",
       "  u'description': u'Data Science',\n",
       "  u'entities': {u'description': {u'urls': []},\n",
       "   u'url': {u'urls': [{u'display_url': u'ryanglambert.com',\n",
       "      u'expanded_url': u'http://www.ryanglambert.com',\n",
       "      u'indices': [0, 22],\n",
       "      u'url': u'http://t.co/umYle5o2Ts'}]}},\n",
       "  u'favourites_count': 117,\n",
       "  u'follow_request_sent': False,\n",
       "  u'followers_count': 113,\n",
       "  u'following': False,\n",
       "  u'friends_count': 147,\n",
       "  u'geo_enabled': False,\n",
       "  u'has_extended_profile': False,\n",
       "  u'id': 306434796,\n",
       "  u'id_str': u'306434796',\n",
       "  u'is_translation_enabled': False,\n",
       "  u'is_translator': False,\n",
       "  u'lang': u'en',\n",
       "  u'listed_count': 6,\n",
       "  u'location': u'San Francisco',\n",
       "  u'name': u'rybo',\n",
       "  u'notifications': False,\n",
       "  u'profile_background_color': u'C6E2EE',\n",
       "  u'profile_background_image_url': u'http://abs.twimg.com/images/themes/theme2/bg.gif',\n",
       "  u'profile_background_image_url_https': u'https://abs.twimg.com/images/themes/theme2/bg.gif',\n",
       "  u'profile_background_tile': False,\n",
       "  u'profile_image_url': u'http://pbs.twimg.com/profile_images/378800000337227799/d8bfa6a5beb498ae3250bed568583f90_normal.jpeg',\n",
       "  u'profile_image_url_https': u'https://pbs.twimg.com/profile_images/378800000337227799/d8bfa6a5beb498ae3250bed568583f90_normal.jpeg',\n",
       "  u'profile_link_color': u'1F98C7',\n",
       "  u'profile_sidebar_border_color': u'C6E2EE',\n",
       "  u'profile_sidebar_fill_color': u'DAECF4',\n",
       "  u'profile_text_color': u'663B12',\n",
       "  u'profile_use_background_image': True,\n",
       "  u'protected': False,\n",
       "  u'screen_name': u'Ryan_G_Lambert',\n",
       "  u'statuses_count': 957,\n",
       "  u'time_zone': u'Eastern Time (US & Canada)',\n",
       "  u'url': u'http://t.co/umYle5o2Ts',\n",
       "  u'utc_offset': -18000,\n",
       "  u'verified': False}}"
      ]
     },
     "execution_count": 40,
     "metadata": {},
     "output_type": "execute_result"
    }
   ],
   "source": [
    "tweets[0]"
   ]
  },
  {
   "cell_type": "code",
   "execution_count": 105,
   "metadata": {
    "collapsed": false
   },
   "outputs": [
    {
     "name": "stdout",
     "output_type": "stream",
     "text": [
      "previous_cursor\n",
      "previous_cursor_str\n",
      "next_cursor\n",
      "users\n",
      "next_cursor_str\n"
     ]
    }
   ],
   "source": [
    "response = requests.get(\"https://api.twitter.com/1.1/followers/list.json?cursor=-1&screen_name=andypiper&count=5000\",\n",
    "                        auth=oauth)\n",
    "\n",
    "tweets = response.json()\n",
    "\n",
    "for key in tweets:\n",
    "    print key\n",
    "    "
   ]
  },
  {
   "cell_type": "code",
   "execution_count": 71,
   "metadata": {
    "collapsed": false
   },
   "outputs": [
    {
     "data": {
      "text/plain": [
       "1323"
      ]
     },
     "execution_count": 71,
     "metadata": {},
     "output_type": "execute_result"
    }
   ],
   "source": [
    "tweets['users'][5]['followers_count']"
   ]
  },
  {
   "cell_type": "code",
   "execution_count": 109,
   "metadata": {
    "collapsed": false
   },
   "outputs": [],
   "source": [
    "parameters = {'q': 'Super Tuesday', 'count':40}"
   ]
  },
  {
   "cell_type": "code",
   "execution_count": 73,
   "metadata": {
    "collapsed": false
   },
   "outputs": [
    {
     "name": "stdout",
     "output_type": "stream",
     "text": [
      "search_metadata\n",
      "statuses\n"
     ]
    }
   ],
   "source": [
    "response = requests.get(\"https://api.twitter.com/1.1/search/tweets.json\", \n",
    "                        params=parameters,\n",
    "                        auth=oauth)\n",
    "\n",
    "tweets = response.json()\n",
    "\n",
    "for key in tweets:\n",
    "    print key\n",
    "    "
   ]
  },
  {
   "cell_type": "code",
   "execution_count": 75,
   "metadata": {
    "collapsed": false
   },
   "outputs": [],
   "source": [
    "tweets = response.json()"
   ]
  },
  {
   "cell_type": "code",
   "execution_count": 94,
   "metadata": {
    "collapsed": true
   },
   "outputs": [],
   "source": [
    "### pauls' code"
   ]
  },
  {
   "cell_type": "code",
   "execution_count": 96,
   "metadata": {
    "collapsed": false
   },
   "outputs": [
    {
     "name": "stdout",
     "output_type": "stream",
     "text": [
      "PAGE 1\n",
      "704798209009291265 Here’s How Many Super Tuesday Voters Are Climate Deniers: Stats like this go a long way toward explaining why ... https://t.co/Ui8A9oJjeD\n",
      "704798206715150336 VOTE IN TODAY'S SUPER TUESDAY PRIMARY BEFORE IT'S TOO LATE! https://t.co/IrlEmpCJFI\n",
      "704798206048260097 Super Tuesday live: Trump and Clinton seek blowouts as others hope for upsets https://t.co/NrZbFPmn9Z\n",
      "704798204735279104 Very proud to say that my first vote went to Bernie Sanders this Super Tuesday! #FeelTheBern\n",
      "704798203015794688 Super excited for Super Tuesday!!!!\n",
      "704798202327867392 RT @VICE: \"This shit is getting less funny by the minute.\" https://t.co/k43Qgg2G6t https://t.co/BcFcNYUrvh\n",
      "704798199509336068 RT @maryaliceparks: By my calculation @BernieSanders spoke to over 85,000 ppl this wk- How Sanders Spent the Week Before Super Tuesday\n",
      "http…\n",
      "704798199190401024 Trump is dominating Super Tuesday ❗️😎❤️🇺🇸 https://t.co/P3AoAPpmVs\n",
      "704798198959906817 RT @Ohio_Politics: We will have complete #SuperTuesday coverage tonight. https://t.co/b33QIC6a9c\n",
      "704798196338393088 RT @NateSilver538: Super Tuesday liveblog. You bring the whiskey. We'll provide the soul-crushing analysis. https://t.co/kOiGpWKCi8\n",
      "704798195201810432 RT @jawja100: SUPER TUESDAY/ #SuperHillary  https://t.co/4EeSuX1EFg\n",
      "704798193834442753 VOTE IN TODAY'S SUPER TUESDAY PRIMARY BEFORE IT'S TOO LATE! https://t.co/SqKt0g2nrq https://t.co/ObWA6QJDcp\n",
      "704798193393999872 A #SuperTuesday cartoon by David Sipress. See more cartoons here: https://t.co/iniSi8PDrW https://t.co/8PLOlX0O4v\n",
      "704798193012379652 Well today is Super Tuesday, KYYMCA Day, Zero Discrimination Day and the opening of Dairy Kastle so I think it's a pretty good day!\n",
      "704798192488091653 RT @AP_ManualEstilo: Una decena de estados de EEUU votan hoy en el llamado en #inglés \"Super Tuesday\". El #EstiloAP es Supermartes https://…\n",
      "704798191703760896 VOTE IN TODAY'S SUPER TUESDAY PRIMARY BEFORE IT'S TOO LATE! https://t.co/i1GpQcnMYB https://t.co/SqTkPsfySJ\n"
     ]
    }
   ],
   "source": [
    "pauls_tweets = tweets['statuses']\n",
    "\n",
    "print 'PAGE 1'\n",
    "for tweet in pauls_tweets:\n",
    "    print tweet['id'], tweet['text']"
   ]
  },
  {
   "cell_type": "markdown",
   "metadata": {},
   "source": [
    "Let's search"
   ]
  },
  {
   "cell_type": "code",
   "execution_count": 116,
   "metadata": {
    "collapsed": true
   },
   "outputs": [],
   "source": [
    "\n",
    "\n",
    "response = requests.get(\"https://api.twitter.com/1.1/search/tweets.json\", \n",
    "                        params=parameters,\n",
    "                        auth=oauth)\n",
    "\n",
    "tweets = response.json()"
   ]
  },
  {
   "cell_type": "code",
   "execution_count": 118,
   "metadata": {
    "collapsed": false
   },
   "outputs": [
    {
     "name": "stdout",
     "output_type": "stream",
     "text": [
      "https://api.twitter.com/1.1/search/tweets.json?max_id=704803120186916863&q=Super%20Tuesday&count=40&include_entities=1\n"
     ]
    }
   ],
   "source": [
    "search_url = \"https://api.twitter.com/1.1/search/tweets.json\"\n",
    "\n",
    "next_page_url = search_url + response.json()['search_metadata']['next_results']\n",
    "\n",
    "print next_page_url\n",
    "\n"
   ]
  },
  {
   "cell_type": "code",
   "execution_count": 119,
   "metadata": {
    "collapsed": true
   },
   "outputs": [],
   "source": [
    "next_response = requests.get(next_page_url)"
   ]
  },
  {
   "cell_type": "markdown",
   "metadata": {},
   "source": [
    "# Interacting with Twitter Api with Tweepy"
   ]
  },
  {
   "cell_type": "code",
   "execution_count": 121,
   "metadata": {
    "collapsed": false
   },
   "outputs": [],
   "source": [
    "import tweepy"
   ]
  },
  {
   "cell_type": "markdown",
   "metadata": {},
   "source": [
    "setup oauth"
   ]
  },
  {
   "cell_type": "markdown",
   "metadata": {},
   "source": [
    "oauth from above"
   ]
  },
  {
   "cell_type": "code",
   "execution_count": 122,
   "metadata": {
    "collapsed": false
   },
   "outputs": [
    {
     "data": {
      "text/plain": [
       "<requests_oauthlib.oauth1_auth.OAuth1 at 0x102b71c10>"
      ]
     },
     "execution_count": 122,
     "metadata": {},
     "output_type": "execute_result"
    }
   ],
   "source": [
    "oauth"
   ]
  },
  {
   "cell_type": "code",
   "execution_count": 124,
   "metadata": {
    "collapsed": false
   },
   "outputs": [
    {
     "data": {
      "text/plain": [
       "('Ffx8HEnsk2U8d0FN16kS30o9g',\n",
       " 'nL0HFkfjdqogEnhkkEvgs0HJdS8fEMy1Ikr4WH13gJwACKlUuI',\n",
       " '306434796-pBOsYgNDUQuG3EVzFHsONC1gDDTewZ0BBM4idBXg',\n",
       " 'bLKsAs2JfNIWwrgBpFzBzsFe6G1MIscT7ywsvxGVGjyQJ')"
      ]
     },
     "execution_count": 124,
     "metadata": {},
     "output_type": "execute_result"
    }
   ],
   "source": [
    "config[\"consumer_key\"],config[\"consumer_secret\"],config[\"access_token\"],config[\"access_token_secret\"]"
   ]
  },
  {
   "cell_type": "code",
   "execution_count": 125,
   "metadata": {
    "collapsed": true
   },
   "outputs": [],
   "source": [
    "auth = tweepy.OAuthHandler(config[\"consumer_key\"], config['consumer_secret'])"
   ]
  },
  {
   "cell_type": "code",
   "execution_count": 126,
   "metadata": {
    "collapsed": true
   },
   "outputs": [],
   "source": [
    "api = tweepy.API(auth)"
   ]
  },
  {
   "cell_type": "code",
   "execution_count": 135,
   "metadata": {
    "collapsed": true
   },
   "outputs": [],
   "source": [
    "from pprint import pprint"
   ]
  },
  {
   "cell_type": "code",
   "execution_count": 145,
   "metadata": {
    "collapsed": false
   },
   "outputs": [],
   "source": [
    "max_tweets = 7\n",
    "results = []\n",
    "\n",
    "\n",
    "for tweet in tweepy.Cursor(api.search, q='Kardashian').items(max_tweets):\n",
    "    results.append(tweet)\n"
   ]
  },
  {
   "cell_type": "code",
   "execution_count": null,
   "metadata": {
    "collapsed": true
   },
   "outputs": [],
   "source": []
  },
  {
   "cell_type": "markdown",
   "metadata": {},
   "source": []
  },
  {
   "cell_type": "code",
   "execution_count": 160,
   "metadata": {
    "collapsed": true
   },
   "outputs": [],
   "source": [
    "import json\n",
    "from pymongo import MongoClient\n",
    "\n",
    "\n",
    "client = MongoClient('localhost', 27017)\n",
    "db = client.example\n",
    "tweets = db.tweets"
   ]
  },
  {
   "cell_type": "code",
   "execution_count": 161,
   "metadata": {
    "collapsed": false
   },
   "outputs": [],
   "source": [
    "for tweet in results:\n",
    "    data={}\n",
    "    data['tweet']=tweet.text.encode('utf-8') \n",
    "    data['datetime']=tweet.created_at\n",
    "    tweets.insert_one(data)"
   ]
  },
  {
   "cell_type": "code",
   "execution_count": 162,
   "metadata": {
    "collapsed": false
   },
   "outputs": [
    {
     "data": {
      "text/plain": [
       "{u'_id': ObjectId('56d623889ee4f441a733704d'),\n",
       " u'datetime': datetime.datetime(2016, 3, 1, 23, 19, 2),\n",
       " u'tweet': u'RT @SexualGif: Kourtney Kardashian is so slept on \\U0001f60d\\U0001f60d https://t.co/j29goC9Lz3'}"
      ]
     },
     "execution_count": 162,
     "metadata": {},
     "output_type": "execute_result"
    }
   ],
   "source": [
    "tweets.find_one()"
   ]
  },
  {
   "cell_type": "code",
   "execution_count": null,
   "metadata": {
    "collapsed": true
   },
   "outputs": [],
   "source": []
  },
  {
   "cell_type": "code",
   "execution_count": null,
   "metadata": {
    "collapsed": true
   },
   "outputs": [],
   "source": []
  },
  {
   "cell_type": "code",
   "execution_count": null,
   "metadata": {
    "collapsed": true
   },
   "outputs": [],
   "source": []
  },
  {
   "cell_type": "code",
   "execution_count": null,
   "metadata": {
    "collapsed": true
   },
   "outputs": [],
   "source": []
  },
  {
   "cell_type": "code",
   "execution_count": null,
   "metadata": {
    "collapsed": true
   },
   "outputs": [],
   "source": []
  },
  {
   "cell_type": "code",
   "execution_count": null,
   "metadata": {
    "collapsed": true
   },
   "outputs": [],
   "source": []
  },
  {
   "cell_type": "code",
   "execution_count": null,
   "metadata": {
    "collapsed": true
   },
   "outputs": [],
   "source": []
  },
  {
   "cell_type": "code",
   "execution_count": null,
   "metadata": {
    "collapsed": true
   },
   "outputs": [],
   "source": []
  },
  {
   "cell_type": "code",
   "execution_count": null,
   "metadata": {
    "collapsed": true
   },
   "outputs": [],
   "source": []
  },
  {
   "cell_type": "code",
   "execution_count": null,
   "metadata": {
    "collapsed": true
   },
   "outputs": [],
   "source": []
  }
 ],
 "metadata": {
  "kernelspec": {
   "display_name": "Python 2",
   "language": "python",
   "name": "python2"
  },
  "language_info": {
   "codemirror_mode": {
    "name": "ipython",
    "version": 2
   },
   "file_extension": ".py",
   "mimetype": "text/x-python",
   "name": "python",
   "nbconvert_exporter": "python",
   "pygments_lexer": "ipython2",
   "version": "2.7.11"
  }
 },
 "nbformat": 4,
 "nbformat_minor": 0
}
