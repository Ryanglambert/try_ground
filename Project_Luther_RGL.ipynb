{
 "cells": [
  {
   "cell_type": "markdown",
   "metadata": {},
   "source": [
    "## Web Scraping 1: BeautifulSoup\n",
    "\n",
    "[BeautifulSoup documentation](http://www.crummy.com/software/BeautifulSoup/bs4/doc/)\n",
    "\n",
    "Scraping data from the internet."
   ]
  },
  {
   "cell_type": "markdown",
   "metadata": {},
   "source": [
    "### First, an HTML refresher"
   ]
  },
  {
   "cell_type": "markdown",
   "metadata": {
    "collapsed": false
   },
   "source": [
    "**HTML** is the basic language used to create a web page. \n",
    "\n",
    "* It tells the web browser what text/media to display, where to display it, and how to display it (style)\n",
    "\n",
    "* HTML is very structured/hirarchical. \n",
    "\n",
    "* Every page is made up of discrete \"elements.\"\n",
    "  * ex: `<p>You are beginning to learn HTML.</p>`\n",
    "\n",
    "* Elements are labeled with \"tags.\"\n",
    "  * ex: `<p>` and `</p>` form the tags that \"tell\" the browser that this is a paragraph element\n",
    "\n",
    "A start tag also often contains **attributes** with info about the element.\n",
    "\n",
    "* Attributes consist of a name and a value\n",
    "  * ex: `<p class=\"obvious-statements\">You are beginning to learn HTML.</p>`\n",
    "\n",
    "**Class attributes** are particularly useful attributes that can be used for isolating elements to format the page with css, alter things with javascript, etc.\n",
    "\n",
    "---\n",
    "\n",
    "A full HTML document has a structure more like this:\n",
    "\n",
    "```\n",
    "<html> \n",
    "  <head> </head>\n",
    "  <body>\n",
    "     <p class=\"red\">You are beginning to learn HTML.</p>\n",
    "     <h1> This is a header </h1>\n",
    "     <a href=\"www.google.com\"> Some link </a>\n",
    "  </body>\n",
    "</html>\n",
    "```\n"
   ]
  },
  {
   "cell_type": "markdown",
   "metadata": {},
   "source": [
    "# Exercise :\n",
    "\n",
    "## Explore some live HTML with `BeautifulSoup`\n",
    "\n",
    "**Step 1.** Go to http://boxofficemojo.com/movies/?id=biglebowski.htm \n",
    "\n",
    "* Right click on any element and choose 'Inspect' or 'Inspect Element'\n"
   ]
  },
  {
   "cell_type": "markdown",
   "metadata": {},
   "source": [
    "**Step 2.** Get the HTML from this page and convert to a BeautifulSoup object\n"
   ]
  },
  {
   "cell_type": "code",
   "execution_count": null,
   "metadata": {
    "collapsed": true
   },
   "outputs": [],
   "source": [
    "import requests"
   ]
  },
  {
   "cell_type": "markdown",
   "metadata": {},
   "source": [
    "Run the cell above. \n",
    "\n",
    "(If failure happens, go to your terminal and `pip install requests`)\n",
    "\n",
    "**Step 2a.** Using requests, we'll retrieve the contents of the page"
   ]
  },
  {
   "cell_type": "code",
   "execution_count": null,
   "metadata": {
    "collapsed": false
   },
   "outputs": [],
   "source": [
    "BASE_URL = 'http://boxofficemojo.com/movies/?id='\n",
    "slug = 'biglebowski.htm'\n",
    "\n",
    "url = BASE_URL + slug\n",
    "response = requests.get(url)"
   ]
  },
  {
   "cell_type": "markdown",
   "metadata": {},
   "source": [
    "**Step 2b.** Make sure we got the page successfully by checking the status code of the response object. \n",
    "\n",
    "[Information on HTTP status codes](https://en.wikipedia.org/wiki/List_of_HTTP_status_codes)"
   ]
  },
  {
   "cell_type": "code",
   "execution_count": null,
   "metadata": {
    "collapsed": false
   },
   "outputs": [],
   "source": [
    "response.ok"
   ]
  },
  {
   "cell_type": "markdown",
   "metadata": {},
   "source": [
    "**Step 2c.** Access the contents of the page and make sure they look legit"
   ]
  },
  {
   "cell_type": "code",
   "execution_count": null,
   "metadata": {
    "collapsed": false
   },
   "outputs": [],
   "source": [
    "raw_html = response.text"
   ]
  },
  {
   "cell_type": "markdown",
   "metadata": {},
   "source": [
    "**Step 2d.** Import BeautifulSoup and convert the contents of the page to a BeautifulSoup object."
   ]
  },
  {
   "cell_type": "code",
   "execution_count": null,
   "metadata": {
    "collapsed": false
   },
   "outputs": [],
   "source": [
    "from bs4 import BeautifulSoup # import BeautifulSoup class\n",
    "#(if fail: pip install beautifulsoup4)\n",
    "\n",
    "soup = BeautifulSoup(raw_html) # create instance of BeautifulSoup with the html of page"
   ]
  },
  {
   "cell_type": "code",
   "execution_count": null,
   "metadata": {
    "collapsed": true
   },
   "outputs": [],
   "source": [
    "print soup.prettify()"
   ]
  },
  {
   "cell_type": "markdown",
   "metadata": {},
   "source": [
    "**Step 3.** Explore the page contents using `soup.find()`\n",
    "\n",
    ">`soup.find()` is the most common function we will use from the `Beautiful Soup` package.  \n",
    "\n"
   ]
  },
  {
   "cell_type": "markdown",
   "metadata": {},
   "source": [
    "**3a.** Search for a type of tag (like 'body','div','p','a') by using the tag as a string argument\n",
    "\n",
    "** `soup.find()`** returns the first matched tag it finds."
   ]
  },
  {
   "cell_type": "code",
   "execution_count": null,
   "metadata": {
    "collapsed": false
   },
   "outputs": [],
   "source": [
    "soup.find('a')"
   ]
  },
  {
   "cell_type": "code",
   "execution_count": null,
   "metadata": {
    "collapsed": false
   },
   "outputs": [],
   "source": [
    "# Equivalently:\n",
    "soup.a"
   ]
  },
  {
   "cell_type": "markdown",
   "metadata": {},
   "source": [
    "**`soup.find_all()`** returns a list of all matches in the document"
   ]
  },
  {
   "cell_type": "code",
   "execution_count": null,
   "metadata": {
    "collapsed": true
   },
   "outputs": [],
   "source": [
    "soup.find_all('a')"
   ]
  },
  {
   "cell_type": "code",
   "execution_count": null,
   "metadata": {
    "collapsed": false
   },
   "outputs": [],
   "source": [
    "type(soup.find_all('a')[0])\n",
    "type(soup.find_all('a')[0]['href'])"
   ]
  },
  {
   "cell_type": "markdown",
   "metadata": {},
   "source": [
    "**3b.** Search for a more specific element or set of elements, matching on an attribute like an id or class.\n"
   ]
  },
  {
   "cell_type": "code",
   "execution_count": null,
   "metadata": {
    "collapsed": false
   },
   "outputs": [],
   "source": [
    "soup.find('div',{'id':'hp_footer'})\n",
    "soup.find('ul',class_='footer_link_list')"
   ]
  },
  {
   "cell_type": "markdown",
   "metadata": {},
   "source": [
    "**3c.** Chaining `find()`s and `find_all()`s to get even more specific\n"
   ]
  },
  {
   "cell_type": "code",
   "execution_count": null,
   "metadata": {
    "collapsed": false
   },
   "outputs": [],
   "source": [
    "thing = soup.find('div',{'id':'hp_footer'}).find('li').find_parent()"
   ]
  },
  {
   "cell_type": "markdown",
   "metadata": {},
   "source": [
    "**3d.** Extract just a value of interest from the returned element(s)"
   ]
  },
  {
   "cell_type": "code",
   "execution_count": null,
   "metadata": {
    "collapsed": false
   },
   "outputs": [],
   "source": [
    "print thing.find_all('li')[-2].find('a')['href']\n",
    "print thing.find_all('li')[-2].find('a').text"
   ]
  },
  {
   "cell_type": "markdown",
   "metadata": {},
   "source": [
    "## Web scraping for reals\n",
    "Web scraping is made simple by the consistent format of information among like pages of a website. \n",
    "\n",
    "Let's choose a set of items to scrape for each movie\n",
    "\n",
    "### Items to scrape for each movie:\n",
    "\n",
    "1. Title\n",
    "1. Domestic Total Gross\n",
    "1. Actors\n",
    "1. Year\n",
    "1. Release Date\n",
    "1. Director\n"
   ]
  },
  {
   "cell_type": "markdown",
   "metadata": {},
   "source": [
    "**Step 4.** Let's get all of the information we want for one movie"
   ]
  },
  {
   "cell_type": "markdown",
   "metadata": {},
   "source": [
    "**4a.** For each item on our list, let's figure out how to access the information of interest\n"
   ]
  },
  {
   "cell_type": "code",
   "execution_count": null,
   "metadata": {
    "collapsed": false
   },
   "outputs": [],
   "source": [
    "from pprint import pprint\n",
    "all_tables = soup.find_all('table')\n",
    "table_with_title = all_tables[2]\n",
    "\n",
    "money_table = table_with_title.find_all('table')[0]\n",
    "row_with_stuff = money_table.find('tr')\n",
    "#print row_with_stuff\n",
    "\n",
    "cells_with_stuff = row_with_stuff.find_all('td')\n",
    "print cells_with_stuff"
   ]
  },
  {
   "cell_type": "code",
   "execution_count": null,
   "metadata": {
    "collapsed": false
   },
   "outputs": [],
   "source": [
    "def title_from_cws(cws):\n",
    "    title = cws[1].find('b').text\n",
    "    return title"
   ]
  },
  {
   "cell_type": "code",
   "execution_count": null,
   "metadata": {
    "collapsed": false
   },
   "outputs": [],
   "source": [
    "# need BASE_URL global variable\n",
    "import requests\n",
    "from bs4 import BeautifulSoup\n",
    "import urlparse\n",
    "\n",
    "\n",
    "\n",
    "def get_soup_from_slug(slug):\n",
    "    url = BASE_URL + slug\n",
    "    response = requests.get(url)\n",
    "    \n",
    "    if response.ok:\n",
    "        return BeautifulSoup(response.text)\n",
    "\n",
    "def find_cells_w_stuff(soup):\n",
    "    \n",
    "    all_tables = soup.find_all('table')\n",
    "    table_with_title = all_tables[2]\n",
    "\n",
    "    money_table = table_with_title.find_all('table')[0]\n",
    "    row_with_stuff = money_table.find('tr')\n",
    "\n",
    "    return row_with_stuff.find_all('td')\n",
    "    \n",
    "def get_stuff_from_bomojo_url(slg):\n",
    "    \n",
    "    soup = get_soup_from_slug(slg) # soup object has .find_all\n",
    "    cells_w_stuff = find_cells_w_stuff(soup) # \n",
    "    \n",
    "    return cells_w_stuff"
   ]
  },
  {
   "cell_type": "code",
   "execution_count": null,
   "metadata": {
    "collapsed": false
   },
   "outputs": [],
   "source": [
    "slug = 'brooklyn.htm'\n",
    "\n",
    "cws = get_stuff_from_bomojo_url(slug)\n",
    "title = title_from_cws(cws)\n",
    "print title"
   ]
  },
  {
   "cell_type": "code",
   "execution_count": null,
   "metadata": {
    "collapsed": false
   },
   "outputs": [],
   "source": [
    "url = \"http://www.boxofficemojo.com/alltime/world/?pagenum=1&p=.htm\"\n",
    "response = requests.get(url)"
   ]
  },
  {
   "cell_type": "code",
   "execution_count": null,
   "metadata": {
    "collapsed": false
   },
   "outputs": [],
   "source": [
    "raw_html = response.text"
   ]
  },
  {
   "cell_type": "code",
   "execution_count": null,
   "metadata": {
    "collapsed": true
   },
   "outputs": [],
   "source": [
    "soup = BeautifulSoup(raw_html)\n",
    "SHORT_BASE_URL = 'http://boxofficemojo.com'\n",
    "long_slug = '/movies/?id=dawnoftheapes.htm'\n",
    "url = urlparse.urljoin(SHORT_BASE_URL,long_slug)"
   ]
  },
  {
   "cell_type": "code",
   "execution_count": 2,
   "metadata": {
    "collapsed": true
   },
   "outputs": [
    {
     "data": {
      "text/plain": [
       "[<tr bgcolor=\"#dcdcdc\"><td align=\"center\"><font size=\"2\"><a href=\"/alltime/world/?pagenum=1&amp;sort=rank&amp;order=ASC&amp;p=.htm\">Rank</a></font></td><td align=\"center\"><font size=\"2\"><a href=\"/alltime/world/?pagenum=1&amp;sort=title&amp;order=ASC&amp;p=.htm\">Title</a></font></td><td align=\"center\"><font size=\"2\"><a href=\"/alltime/world/?pagenum=1&amp;sort=studio&amp;order=ASC&amp;p=.htm\">Studio</a></font></td><td align=\"center\"><font size=\"2\"><a href=\"/alltime/world/?pagenum=1&amp;sort=wwgross&amp;order=ASC&amp;p=.htm\"><b>Worldwide</b></a></font></td><td align=\"center\" colspan=\"2\"><font size=\"2\"><a href=\"/alltime/world/?pagenum=1&amp;sort=domgross&amp;order=DESC&amp;p=.htm\">Domestic</a> / </font><font size=\"2\"><a href=\"/alltime/world/?pagenum=1&amp;sort=dompercent&amp;order=DESC&amp;p=.htm\">%</a></font></td><td align=\"center\" colspan=\"2\"><font size=\"2\"><a href=\"/alltime/world/?pagenum=1&amp;sort=osgross&amp;order=DESC&amp;p=.htm\">Overseas</a> / </font><font size=\"2\"><a href=\"/alltime/world/?pagenum=1&amp;sort=ospercent&amp;order=DESC&amp;p=.htm\">%</a></font></td><td align=\"center\"><font size=\"2\"><a href=\"/alltime/world/?pagenum=1&amp;sort=year&amp;order=DESC&amp;p=.htm\">Year^</a></font></td></tr>,\n",
       " <tr bgcolor=\"#ffffff\"><td align=\"center\"><font size=\"2\">1</font></td>\\n<td><font size=\"2\"><a href=\"/movies/?id=avatar.htm\"><b>Avatar</b></a></font></td>\\n<td><font size=\"2\">Fox</font></td>\\n<td align=\"right\"><font size=\"2\"><b>$2,788.0</b></font></td>\\n<td align=\"right\"><font size=\"2\">$760.5</font></td>\\n<td align=\"right\"><font size=\"2\">27.3%</font></td>\\n<td align=\"right\"><font size=\"2\">$2,027.5</font></td>\\n<td align=\"right\"><font size=\"2\">72.7%</font></td>\\n<td align=\"center\"><font size=\"2\">2009^</font></td>\\n</tr>,\n",
       " <tr bgcolor=\"#f4f4ff\"><td align=\"center\"><font size=\"2\">2</font></td>\\n<td><font size=\"2\"><a href=\"/movies/?id=titanic.htm\"><b>Titanic</b></a></font></td>\\n<td><font size=\"2\">Par.</font></td>\\n<td align=\"right\"><font size=\"2\"><b>$2,186.8</b></font></td>\\n<td align=\"right\"><font size=\"2\">$658.7</font></td>\\n<td align=\"right\"><font size=\"2\">30.1%</font></td>\\n<td align=\"right\"><font size=\"2\">$1,528.1</font></td>\\n<td align=\"right\"><font size=\"2\">69.9%</font></td>\\n<td align=\"center\"><font size=\"2\">1997^</font></td>\\n</tr>,\n",
       " <tr bgcolor=\"#FFFF99\"><td align=\"center\"><font size=\"2\">3</font></td>\\n<td><font size=\"2\"><a href=\"/movies/?id=starwars7.htm\"><b>Star Wars: The Force Awakens</b></a></font></td>\\n<td><font size=\"2\">BV</font></td>\\n<td align=\"right\"><font size=\"2\"><b>$1,946.8</b></font></td>\\n<td align=\"right\"><font size=\"2\">$880.4</font></td>\\n<td align=\"right\"><font size=\"2\">45.2%</font></td>\\n<td align=\"right\"><font size=\"2\">$1,066.4</font></td>\\n<td align=\"right\"><font size=\"2\">54.8%</font></td>\\n<td align=\"center\"><font size=\"2\">2015</font></td>\\n</tr>,\n",
       " <tr bgcolor=\"#f4f4ff\"><td align=\"center\"><font size=\"2\">4</font></td>\\n<td><font size=\"2\"><a href=\"/movies/?id=jurassicpark4.htm\"><b>Jurassic World</b></a></font></td>\\n<td><font size=\"2\">Uni.</font></td>\\n<td align=\"right\"><font size=\"2\"><b>$1,669.0</b></font></td>\\n<td align=\"right\"><font size=\"2\">$652.3</font></td>\\n<td align=\"right\"><font size=\"2\">39.1%</font></td>\\n<td align=\"right\"><font size=\"2\">$1,016.7</font></td>\\n<td align=\"right\"><font size=\"2\">60.9%</font></td>\\n<td align=\"center\"><font size=\"2\">2015</font></td>\\n</tr>,\n",
       " <tr bgcolor=\"#ffffff\"><td align=\"center\"><font size=\"2\">5</font></td>\\n<td><font size=\"2\"><a href=\"/movies/?id=avengers11.htm\"><b>Marvel's The Avengers</b></a></font></td>\\n<td><font size=\"2\">BV</font></td>\\n<td align=\"right\"><font size=\"2\"><b>$1,519.6</b></font></td>\\n<td align=\"right\"><font size=\"2\">$623.4</font></td>\\n<td align=\"right\"><font size=\"2\">41.0%</font></td>\\n<td align=\"right\"><font size=\"2\">$896.2</font></td>\\n<td align=\"right\"><font size=\"2\">59.0%</font></td>\\n<td align=\"center\"><font size=\"2\">2012</font></td>\\n</tr>,\n",
       " <tr bgcolor=\"#f4f4ff\"><td align=\"center\"><font size=\"2\">6</font></td>\\n<td><font size=\"2\"><a href=\"/movies/?id=fast7.htm\"><b>Furious 7</b></a></font></td>\\n<td><font size=\"2\">Uni.</font></td>\\n<td align=\"right\"><font size=\"2\"><b>$1,515.0</b></font></td>\\n<td align=\"right\"><font size=\"2\">$353.0</font></td>\\n<td align=\"right\"><font size=\"2\">23.3%</font></td>\\n<td align=\"right\"><font size=\"2\">$1,162.0</font></td>\\n<td align=\"right\"><font size=\"2\">76.7%</font></td>\\n<td align=\"center\"><font size=\"2\">2015</font></td>\\n</tr>,\n",
       " <tr bgcolor=\"#ffffff\"><td align=\"center\"><font size=\"2\">7</font></td>\\n<td><font size=\"2\"><a href=\"/movies/?id=avengers2.htm\"><b>Avengers: Age of Ultron</b></a></font></td>\\n<td><font size=\"2\">BV</font></td>\\n<td align=\"right\"><font size=\"2\"><b>$1,405.4</b></font></td>\\n<td align=\"right\"><font size=\"2\">$459.0</font></td>\\n<td align=\"right\"><font size=\"2\">32.7%</font></td>\\n<td align=\"right\"><font size=\"2\">$946.4</font></td>\\n<td align=\"right\"><font size=\"2\">67.3%</font></td>\\n<td align=\"center\"><font size=\"2\">2015</font></td>\\n</tr>,\n",
       " <tr bgcolor=\"#f4f4ff\"><td align=\"center\"><font size=\"2\">8</font></td>\\n<td><font size=\"2\"><a href=\"/movies/?id=harrypotter72.htm\"><b>Harry Potter and the Deathly Hallows Part 2</b></a></font></td>\\n<td><font size=\"2\">WB</font></td>\\n<td align=\"right\"><font size=\"2\"><b>$1,341.5</b></font></td>\\n<td align=\"right\"><font size=\"2\">$381.0</font></td>\\n<td align=\"right\"><font size=\"2\">28.4%</font></td>\\n<td align=\"right\"><font size=\"2\">$960.5</font></td>\\n<td align=\"right\"><font size=\"2\">71.6%</font></td>\\n<td align=\"center\"><font size=\"2\">2011</font></td>\\n</tr>,\n",
       " <tr bgcolor=\"#ffffff\"><td align=\"center\"><font size=\"2\">9</font></td>\\n<td><font size=\"2\"><a href=\"/movies/?id=frozen2013.htm\"><b>Frozen</b></a></font></td>\\n<td><font size=\"2\">BV</font></td>\\n<td align=\"right\"><font size=\"2\"><b>$1,276.5</b></font></td>\\n<td align=\"right\"><font size=\"2\">$400.7</font></td>\\n<td align=\"right\"><font size=\"2\">31.4%</font></td>\\n<td align=\"right\"><font size=\"2\">$875.7</font></td>\\n<td align=\"right\"><font size=\"2\">68.6%</font></td>\\n<td align=\"center\"><font size=\"2\">2013</font></td>\\n</tr>,\n",
       " <tr bgcolor=\"#f4f4ff\"><td align=\"center\"><font size=\"2\">10</font></td>\\n<td><font size=\"2\"><a href=\"/movies/?id=ironman3.htm\"><b>Iron Man 3</b></a></font></td>\\n<td><font size=\"2\">BV</font></td>\\n<td align=\"right\"><font size=\"2\"><b>$1,215.4</b></font></td>\\n<td align=\"right\"><font size=\"2\">$409.0</font></td>\\n<td align=\"right\"><font size=\"2\">33.7%</font></td>\\n<td align=\"right\"><font size=\"2\">$806.4</font></td>\\n<td align=\"right\"><font size=\"2\">66.3%</font></td>\\n<td align=\"center\"><font size=\"2\">2013</font></td>\\n</tr>,\n",
       " <tr bgcolor=\"#ffffff\"><td align=\"center\"><font size=\"2\">11</font></td>\\n<td><font size=\"2\"><a href=\"/movies/?id=minions.htm\"><b>Minions</b></a></font></td>\\n<td><font size=\"2\">Uni.</font></td>\\n<td align=\"right\"><font size=\"2\"><b>$1,157.3</b></font></td>\\n<td align=\"right\"><font size=\"2\">$336.0</font></td>\\n<td align=\"right\"><font size=\"2\">29.0%</font></td>\\n<td align=\"right\"><font size=\"2\">$821.2</font></td>\\n<td align=\"right\"><font size=\"2\">71.0%</font></td>\\n<td align=\"center\"><font size=\"2\">2015</font></td>\\n</tr>,\n",
       " <tr bgcolor=\"#f4f4ff\"><td align=\"center\"><font size=\"2\">12</font></td>\\n<td><font size=\"2\"><a href=\"/movies/?id=transformers3.htm\"><b>Transformers: Dark of the Moon</b></a></font></td>\\n<td><font size=\"2\">P/DW</font></td>\\n<td align=\"right\"><font size=\"2\"><b>$1,123.8</b></font></td>\\n<td align=\"right\"><font size=\"2\">$352.4</font></td>\\n<td align=\"right\"><font size=\"2\">31.4%</font></td>\\n<td align=\"right\"><font size=\"2\">$771.4</font></td>\\n<td align=\"right\"><font size=\"2\">68.6%</font></td>\\n<td align=\"center\"><font size=\"2\">2011</font></td>\\n</tr>,\n",
       " <tr bgcolor=\"#ffffff\"><td align=\"center\"><font size=\"2\">13</font></td>\\n<td><font size=\"2\"><a href=\"/movies/?id=returnoftheking.htm\"><b>The Lord of the Rings: The Return of the King</b></a></font></td>\\n<td><font size=\"2\">NL</font></td>\\n<td align=\"right\"><font size=\"2\"><b>$1,119.9</b></font></td>\\n<td align=\"right\"><font size=\"2\">$377.8</font></td>\\n<td align=\"right\"><font size=\"2\">33.7%</font></td>\\n<td align=\"right\"><font size=\"2\">$742.1</font></td>\\n<td align=\"right\"><font size=\"2\">66.3%</font></td>\\n<td align=\"center\"><font size=\"2\">2003^</font></td>\\n</tr>,\n",
       " <tr bgcolor=\"#f4f4ff\"><td align=\"center\"><font size=\"2\">14</font></td>\\n<td><font size=\"2\"><a href=\"/movies/?id=bond23.htm\"><b>Skyfall</b></a></font></td>\\n<td><font size=\"2\">Sony</font></td>\\n<td align=\"right\"><font size=\"2\"><b>$1,108.6</b></font></td>\\n<td align=\"right\"><font size=\"2\">$304.4</font></td>\\n<td align=\"right\"><font size=\"2\">27.5%</font></td>\\n<td align=\"right\"><font size=\"2\">$804.2</font></td>\\n<td align=\"right\"><font size=\"2\">72.5%</font></td>\\n<td align=\"center\"><font size=\"2\">2012</font></td>\\n</tr>,\n",
       " <tr bgcolor=\"#ffffff\"><td align=\"center\"><font size=\"2\">15</font></td>\\n<td><font size=\"2\"><a href=\"/movies/?id=transformers4.htm\"><b>Transformers: Age of Extinction</b></a></font></td>\\n<td><font size=\"2\">Par.</font></td>\\n<td align=\"right\"><font size=\"2\"><b>$1,104.1</b></font></td>\\n<td align=\"right\"><font size=\"2\">$245.4</font></td>\\n<td align=\"right\"><font size=\"2\">22.2%</font></td>\\n<td align=\"right\"><font size=\"2\">$858.6</font></td>\\n<td align=\"right\"><font size=\"2\">77.8%</font></td>\\n<td align=\"center\"><font size=\"2\">2014</font></td>\\n</tr>,\n",
       " <tr bgcolor=\"#f4f4ff\"><td align=\"center\"><font size=\"2\">16</font></td>\\n<td><font size=\"2\"><a href=\"/movies/?id=batman3.htm\"><b>The Dark Knight Rises</b></a></font></td>\\n<td><font size=\"2\">WB</font></td>\\n<td align=\"right\"><font size=\"2\"><b>$1,084.9</b></font></td>\\n<td align=\"right\"><font size=\"2\">$448.1</font></td>\\n<td align=\"right\"><font size=\"2\">41.3%</font></td>\\n<td align=\"right\"><font size=\"2\">$636.8</font></td>\\n<td align=\"right\"><font size=\"2\">58.7%</font></td>\\n<td align=\"center\"><font size=\"2\">2012</font></td>\\n</tr>,\n",
       " <tr bgcolor=\"#ffffff\"><td align=\"center\"><font size=\"2\">17</font></td>\\n<td><font size=\"2\"><a href=\"/movies/?id=piratesofthecaribbean2.htm\"><b>Pirates of the Caribbean: Dead Man's Chest</b></a></font></td>\\n<td><font size=\"2\">BV</font></td>\\n<td align=\"right\"><font size=\"2\"><b>$1,066.2</b></font></td>\\n<td align=\"right\"><font size=\"2\">$423.3</font></td>\\n<td align=\"right\"><font size=\"2\">39.7%</font></td>\\n<td align=\"right\"><font size=\"2\">$642.9</font></td>\\n<td align=\"right\"><font size=\"2\">60.3%</font></td>\\n<td align=\"center\"><font size=\"2\">2006</font></td>\\n</tr>,\n",
       " <tr bgcolor=\"#f4f4ff\"><td align=\"center\"><font size=\"2\">18</font></td>\\n<td><font size=\"2\"><a href=\"/movies/?id=toystory3.htm\"><b>Toy Story 3</b></a></font></td>\\n<td><font size=\"2\">BV</font></td>\\n<td align=\"right\"><font size=\"2\"><b>$1,063.2</b></font></td>\\n<td align=\"right\"><font size=\"2\">$415.0</font></td>\\n<td align=\"right\"><font size=\"2\">39.0%</font></td>\\n<td align=\"right\"><font size=\"2\">$648.2</font></td>\\n<td align=\"right\"><font size=\"2\">61.0%</font></td>\\n<td align=\"center\"><font size=\"2\">2010</font></td>\\n</tr>,\n",
       " <tr bgcolor=\"#ffffff\"><td align=\"center\"><font size=\"2\">19</font></td>\\n<td><font size=\"2\"><a href=\"/movies/?id=piratesofthecaribbean4.htm\"><b>Pirates of the Caribbean: On Stranger Tides</b></a></font></td>\\n<td><font size=\"2\">BV</font></td>\\n<td align=\"right\"><font size=\"2\"><b>$1,045.7</b></font></td>\\n<td align=\"right\"><font size=\"2\">$241.1</font></td>\\n<td align=\"right\"><font size=\"2\">23.1%</font></td>\\n<td align=\"right\"><font size=\"2\">$804.6</font></td>\\n<td align=\"right\"><font size=\"2\">76.9%</font></td>\\n<td align=\"center\"><font size=\"2\">2011</font></td>\\n</tr>,\n",
       " <tr bgcolor=\"#f4f4ff\"><td align=\"center\"><font size=\"2\">20</font></td>\\n<td><font size=\"2\"><a href=\"/movies/?id=jurassicpark.htm\"><b>Jurassic Park</b></a></font></td>\\n<td><font size=\"2\">Uni.</font></td>\\n<td align=\"right\"><font size=\"2\"><b>$1,029.2</b></font></td>\\n<td align=\"right\"><font size=\"2\">$402.5</font></td>\\n<td align=\"right\"><font size=\"2\">39.1%</font></td>\\n<td align=\"right\"><font size=\"2\">$626.7</font></td>\\n<td align=\"right\"><font size=\"2\">60.9%</font></td>\\n<td align=\"center\"><font size=\"2\">1993^</font></td>\\n</tr>,\n",
       " <tr bgcolor=\"#ffffff\"><td align=\"center\"><font size=\"2\">21</font></td>\\n<td><font size=\"2\"><a href=\"/movies/?id=starwars.htm\"><b>Star Wars: Episode I - The Phantom Menace</b></a></font></td>\\n<td><font size=\"2\">Fox</font></td>\\n<td align=\"right\"><font size=\"2\"><b>$1,027.0</b></font></td>\\n<td align=\"right\"><font size=\"2\">$474.5</font></td>\\n<td align=\"right\"><font size=\"2\">46.2%</font></td>\\n<td align=\"right\"><font size=\"2\">$552.5</font></td>\\n<td align=\"right\"><font size=\"2\">53.8%</font></td>\\n<td align=\"center\"><font size=\"2\">1999^</font></td>\\n</tr>,\n",
       " <tr bgcolor=\"#f4f4ff\"><td align=\"center\"><font size=\"2\">22</font></td>\\n<td><font size=\"2\"><a href=\"/movies/?id=aliceinwonderland10.htm\"><b>Alice in Wonderland (2010)</b></a></font></td>\\n<td><font size=\"2\">BV</font></td>\\n<td align=\"right\"><font size=\"2\"><b>$1,025.5</b></font></td>\\n<td align=\"right\"><font size=\"2\">$334.2</font></td>\\n<td align=\"right\"><font size=\"2\">32.6%</font></td>\\n<td align=\"right\"><font size=\"2\">$691.3</font></td>\\n<td align=\"right\"><font size=\"2\">67.4%</font></td>\\n<td align=\"center\"><font size=\"2\">2010</font></td>\\n</tr>,\n",
       " <tr bgcolor=\"#ffffff\"><td align=\"center\"><font size=\"2\">23</font></td>\\n<td><font size=\"2\"><a href=\"/movies/?id=hobbit.htm\"><b>The Hobbit: An Unexpected Journey</b></a></font></td>\\n<td><font size=\"2\">WB (NL)</font></td>\\n<td align=\"right\"><font size=\"2\"><b>$1,021.1</b></font></td>\\n<td align=\"right\"><font size=\"2\">$303.0</font></td>\\n<td align=\"right\"><font size=\"2\">29.7%</font></td>\\n<td align=\"right\"><font size=\"2\">$718.1</font></td>\\n<td align=\"right\"><font size=\"2\">70.3%</font></td>\\n<td align=\"center\"><font size=\"2\">2012</font></td>\\n</tr>,\n",
       " <tr bgcolor=\"#f4f4ff\"><td align=\"center\"><font size=\"2\">24</font></td>\\n<td><font size=\"2\"><a href=\"/movies/?id=darkknight.htm\"><b>The Dark Knight</b></a></font></td>\\n<td><font size=\"2\">WB</font></td>\\n<td align=\"right\"><font size=\"2\"><b>$1,004.6</b></font></td>\\n<td align=\"right\"><font size=\"2\">$534.9</font></td>\\n<td align=\"right\"><font size=\"2\">53.2%</font></td>\\n<td align=\"right\"><font size=\"2\">$469.7</font></td>\\n<td align=\"right\"><font size=\"2\">46.8%</font></td>\\n<td align=\"center\"><font size=\"2\">2008^</font></td>\\n</tr>,\n",
       " <tr bgcolor=\"#ffffff\"><td align=\"center\"><font size=\"2\">25</font></td>\\n<td><font size=\"2\"><a href=\"/movies/?id=lionking.htm\"><b>The Lion King</b></a></font></td>\\n<td><font size=\"2\">BV</font></td>\\n<td align=\"right\"><font size=\"2\"><b>$987.5</b></font></td>\\n<td align=\"right\"><font size=\"2\">$422.8</font></td>\\n<td align=\"right\"><font size=\"2\">42.8%</font></td>\\n<td align=\"right\"><font size=\"2\">$564.7</font></td>\\n<td align=\"right\"><font size=\"2\">57.2%</font></td>\\n<td align=\"center\"><font size=\"2\">1994^</font></td>\\n</tr>,\n",
       " <tr bgcolor=\"#f4f4ff\"><td align=\"center\"><font size=\"2\">26</font></td>\\n<td><font size=\"2\"><a href=\"/movies/?id=harrypotter.htm\"><b>Harry Potter and the Sorcerer's Stone</b></a></font></td>\\n<td><font size=\"2\">WB</font></td>\\n<td align=\"right\"><font size=\"2\"><b>$974.8</b></font></td>\\n<td align=\"right\"><font size=\"2\">$317.6</font></td>\\n<td align=\"right\"><font size=\"2\">32.6%</font></td>\\n<td align=\"right\"><font size=\"2\">$657.2</font></td>\\n<td align=\"right\"><font size=\"2\">67.4%</font></td>\\n<td align=\"center\"><font size=\"2\">2001</font></td>\\n</tr>,\n",
       " <tr bgcolor=\"#ffffff\"><td align=\"center\"><font size=\"2\">27</font></td>\\n<td><font size=\"2\"><a href=\"/movies/?id=despicableme2.htm\"><b>Despicable Me 2</b></a></font></td>\\n<td><font size=\"2\">Uni.</font></td>\\n<td align=\"right\"><font size=\"2\"><b>$970.8</b></font></td>\\n<td align=\"right\"><font size=\"2\">$368.1</font></td>\\n<td align=\"right\"><font size=\"2\">37.9%</font></td>\\n<td align=\"right\"><font size=\"2\">$602.7</font></td>\\n<td align=\"right\"><font size=\"2\">62.1%</font></td>\\n<td align=\"center\"><font size=\"2\">2013</font></td>\\n</tr>,\n",
       " <tr bgcolor=\"#f4f4ff\"><td align=\"center\"><font size=\"2\">28</font></td>\\n<td><font size=\"2\"><a href=\"/movies/?id=piratesofthecaribbean3.htm\"><b>Pirates of the Caribbean: At World's End</b></a></font></td>\\n<td><font size=\"2\">BV</font></td>\\n<td align=\"right\"><font size=\"2\"><b>$963.4</b></font></td>\\n<td align=\"right\"><font size=\"2\">$309.4</font></td>\\n<td align=\"right\"><font size=\"2\">32.1%</font></td>\\n<td align=\"right\"><font size=\"2\">$654.0</font></td>\\n<td align=\"right\"><font size=\"2\">67.9%</font></td>\\n<td align=\"center\"><font size=\"2\">2007</font></td>\\n</tr>,\n",
       " <tr bgcolor=\"#ffffff\"><td align=\"center\"><font size=\"2\">29</font></td>\\n<td><font size=\"2\"><a href=\"/movies/?id=harrypotter7.htm\"><b>Harry Potter and the Deathly Hallows Part 1</b></a></font></td>\\n<td><font size=\"2\">WB</font></td>\\n<td align=\"right\"><font size=\"2\"><b>$960.3</b></font></td>\\n<td align=\"right\"><font size=\"2\">$296.0</font></td>\\n<td align=\"right\"><font size=\"2\">30.8%</font></td>\\n<td align=\"right\"><font size=\"2\">$664.3</font></td>\\n<td align=\"right\"><font size=\"2\">69.2%</font></td>\\n<td align=\"center\"><font size=\"2\">2010</font></td>\\n</tr>,\n",
       " <tr bgcolor=\"#f4f4ff\"><td align=\"center\"><font size=\"2\">30</font></td>\\n<td><font size=\"2\"><a href=\"/movies/?id=hobbit2.htm\"><b>The Hobbit: The Desolation of Smaug</b></a></font></td>\\n<td><font size=\"2\">WB (NL)</font></td>\\n<td align=\"right\"><font size=\"2\"><b>$958.4</b></font></td>\\n<td align=\"right\"><font size=\"2\">$258.4</font></td>\\n<td align=\"right\"><font size=\"2\">27.0%</font></td>\\n<td align=\"right\"><font size=\"2\">$700.0</font></td>\\n<td align=\"right\"><font size=\"2\">73.0%</font></td>\\n<td align=\"center\"><font size=\"2\">2013</font></td>\\n</tr>,\n",
       " <tr bgcolor=\"#ffffff\"><td align=\"center\"><font size=\"2\">31</font></td>\\n<td><font size=\"2\"><a href=\"/movies/?id=hobbit3.htm\"><b>The Hobbit: The Battle of the Five Armies</b></a></font></td>\\n<td><font size=\"2\">WB (NL)</font></td>\\n<td align=\"right\"><font size=\"2\"><b>$956.0</b></font></td>\\n<td align=\"right\"><font size=\"2\">$255.1</font></td>\\n<td align=\"right\"><font size=\"2\">26.7%</font></td>\\n<td align=\"right\"><font size=\"2\">$700.9</font></td>\\n<td align=\"right\"><font size=\"2\">73.3%</font></td>\\n<td align=\"center\"><font size=\"2\">2014</font></td>\\n</tr>,\n",
       " <tr bgcolor=\"#f4f4ff\"><td align=\"center\"><font size=\"2\">32</font></td>\\n<td><font size=\"2\"><a href=\"/movies/?id=harrypotter5.htm\"><b>Harry Potter and the Order of the Phoenix</b></a></font></td>\\n<td><font size=\"2\">WB</font></td>\\n<td align=\"right\"><font size=\"2\"><b>$939.9</b></font></td>\\n<td align=\"right\"><font size=\"2\">$292.0</font></td>\\n<td align=\"right\"><font size=\"2\">31.1%</font></td>\\n<td align=\"right\"><font size=\"2\">$647.9</font></td>\\n<td align=\"right\"><font size=\"2\">68.9%</font></td>\\n<td align=\"center\"><font size=\"2\">2007</font></td>\\n</tr>,\n",
       " <tr bgcolor=\"#ffffff\"><td align=\"center\"><font size=\"2\">33</font></td>\\n<td><font size=\"2\"><a href=\"/movies/?id=findingnemo.htm\"><b>Finding Nemo</b></a></font></td>\\n<td><font size=\"2\">BV</font></td>\\n<td align=\"right\"><font size=\"2\"><b>$936.7</b></font></td>\\n<td align=\"right\"><font size=\"2\">$380.8</font></td>\\n<td align=\"right\"><font size=\"2\">40.7%</font></td>\\n<td align=\"right\"><font size=\"2\">$555.9</font></td>\\n<td align=\"right\"><font size=\"2\">59.3%</font></td>\\n<td align=\"center\"><font size=\"2\">2003^</font></td>\\n</tr>,\n",
       " <tr bgcolor=\"#f4f4ff\"><td align=\"center\"><font size=\"2\">34</font></td>\\n<td><font size=\"2\"><a href=\"/movies/?id=harrypotter6.htm\"><b>Harry Potter and the Half-Blood Prince</b></a></font></td>\\n<td><font size=\"2\">WB</font></td>\\n<td align=\"right\"><font size=\"2\"><b>$934.4</b></font></td>\\n<td align=\"right\"><font size=\"2\">$302.0</font></td>\\n<td align=\"right\"><font size=\"2\">32.3%</font></td>\\n<td align=\"right\"><font size=\"2\">$632.5</font></td>\\n<td align=\"right\"><font size=\"2\">67.7%</font></td>\\n<td align=\"center\"><font size=\"2\">2009</font></td>\\n</tr>,\n",
       " <tr bgcolor=\"#ffffff\"><td align=\"center\"><font size=\"2\">35</font></td>\\n<td><font size=\"2\"><a href=\"/movies/?id=twotowers.htm\"><b>The Lord of the Rings: The Two Towers</b></a></font></td>\\n<td><font size=\"2\">NL</font></td>\\n<td align=\"right\"><font size=\"2\"><b>$926.0</b></font></td>\\n<td align=\"right\"><font size=\"2\">$342.6</font></td>\\n<td align=\"right\"><font size=\"2\">37.0%</font></td>\\n<td align=\"right\"><font size=\"2\">$583.5</font></td>\\n<td align=\"right\"><font size=\"2\">63.0%</font></td>\\n<td align=\"center\"><font size=\"2\">2002^</font></td>\\n</tr>,\n",
       " <tr bgcolor=\"#f4f4ff\"><td align=\"center\"><font size=\"2\">36</font></td>\\n<td><font size=\"2\"><a href=\"/movies/?id=shrek2.htm\"><b>Shrek 2</b></a></font></td>\\n<td><font size=\"2\">DW</font></td>\\n<td align=\"right\"><font size=\"2\"><b>$919.8</b></font></td>\\n<td align=\"right\"><font size=\"2\">$441.2</font></td>\\n<td align=\"right\"><font size=\"2\">48.0%</font></td>\\n<td align=\"right\"><font size=\"2\">$478.6</font></td>\\n<td align=\"right\"><font size=\"2\">52.0%</font></td>\\n<td align=\"center\"><font size=\"2\">2004</font></td>\\n</tr>,\n",
       " <tr bgcolor=\"#ffffff\"><td align=\"center\"><font size=\"2\">37</font></td>\\n<td><font size=\"2\"><a href=\"/movies/?id=harrypotter4.htm\"><b>Harry Potter and the Goblet of Fire</b></a></font></td>\\n<td><font size=\"2\">WB</font></td>\\n<td align=\"right\"><font size=\"2\"><b>$896.9</b></font></td>\\n<td align=\"right\"><font size=\"2\">$290.0</font></td>\\n<td align=\"right\"><font size=\"2\">32.3%</font></td>\\n<td align=\"right\"><font size=\"2\">$606.9</font></td>\\n<td align=\"right\"><font size=\"2\">67.7%</font></td>\\n<td align=\"center\"><font size=\"2\">2005</font></td>\\n</tr>,\n",
       " <tr bgcolor=\"#f4f4ff\"><td align=\"center\"><font size=\"2\">38</font></td>\\n<td><font size=\"2\"><a href=\"/movies/?id=spiderman3.htm\"><b>Spider-Man 3</b></a></font></td>\\n<td><font size=\"2\">Sony</font></td>\\n<td align=\"right\"><font size=\"2\"><b>$890.9</b></font></td>\\n<td align=\"right\"><font size=\"2\">$336.5</font></td>\\n<td align=\"right\"><font size=\"2\">37.8%</font></td>\\n<td align=\"right\"><font size=\"2\">$554.3</font></td>\\n<td align=\"right\"><font size=\"2\">62.2%</font></td>\\n<td align=\"center\"><font size=\"2\">2007</font></td>\\n</tr>,\n",
       " <tr bgcolor=\"#ffffff\"><td align=\"center\"><font size=\"2\">39</font></td>\\n<td><font size=\"2\"><a href=\"/movies/?id=iceage3.htm\"><b>Ice Age: Dawn of the Dinosaurs</b></a></font></td>\\n<td><font size=\"2\">Fox</font></td>\\n<td align=\"right\"><font size=\"2\"><b>$886.7</b></font></td>\\n<td align=\"right\"><font size=\"2\">$196.6</font></td>\\n<td align=\"right\"><font size=\"2\">22.2%</font></td>\\n<td align=\"right\"><font size=\"2\">$690.1</font></td>\\n<td align=\"right\"><font size=\"2\">77.8%</font></td>\\n<td align=\"center\"><font size=\"2\">2009</font></td>\\n</tr>,\n",
       " <tr bgcolor=\"#f4f4ff\"><td align=\"center\"><font size=\"2\">40</font></td>\\n<td><font size=\"2\"><a href=\"/movies/?id=harrypotter2.htm\"><b>Harry Potter and the Chamber of Secrets</b></a></font></td>\\n<td><font size=\"2\">WB</font></td>\\n<td align=\"right\"><font size=\"2\"><b>$879.0</b></font></td>\\n<td align=\"right\"><font size=\"2\">$262.0</font></td>\\n<td align=\"right\"><font size=\"2\">29.8%</font></td>\\n<td align=\"right\"><font size=\"2\">$617.0</font></td>\\n<td align=\"right\"><font size=\"2\">70.2%</font></td>\\n<td align=\"center\"><font size=\"2\">2002</font></td>\\n</tr>,\n",
       " <tr bgcolor=\"#FFFF99\"><td align=\"center\"><font size=\"2\">41</font></td>\\n<td><font size=\"2\"><a href=\"/movies/?id=bond24.htm\"><b>Spectre</b></a></font></td>\\n<td><font size=\"2\">Sony</font></td>\\n<td align=\"right\"><font size=\"2\"><b>$877.5</b></font></td>\\n<td align=\"right\"><font size=\"2\">$199.3</font></td>\\n<td align=\"right\"><font size=\"2\">22.7%</font></td>\\n<td align=\"right\"><font size=\"2\">$678.2</font></td>\\n<td align=\"right\"><font size=\"2\">77.3%</font></td>\\n<td align=\"center\"><font size=\"2\">2015</font></td>\\n</tr>,\n",
       " <tr bgcolor=\"#f4f4ff\"><td align=\"center\"><font size=\"2\">42</font></td>\\n<td><font size=\"2\"><a href=\"/movies/?id=iceage4.htm\"><b>Ice Age: Continental Drift</b></a></font></td>\\n<td><font size=\"2\">Fox</font></td>\\n<td align=\"right\"><font size=\"2\"><b>$877.2</b></font></td>\\n<td align=\"right\"><font size=\"2\">$161.3</font></td>\\n<td align=\"right\"><font size=\"2\">18.4%</font></td>\\n<td align=\"right\"><font size=\"2\">$715.9</font></td>\\n<td align=\"right\"><font size=\"2\">81.6%</font></td>\\n<td align=\"center\"><font size=\"2\">2012</font></td>\\n</tr>,\n",
       " <tr bgcolor=\"#ffffff\"><td align=\"center\"><font size=\"2\">43</font></td>\\n<td><font size=\"2\"><a href=\"/movies/?id=fellowshipofthering.htm\"><b>The Lord of the Rings: The Fellowship of the Ring</b></a></font></td>\\n<td><font size=\"2\">NL</font></td>\\n<td align=\"right\"><font size=\"2\"><b>$871.5</b></font></td>\\n<td align=\"right\"><font size=\"2\">$315.5</font></td>\\n<td align=\"right\"><font size=\"2\">36.2%</font></td>\\n<td align=\"right\"><font size=\"2\">$556.0</font></td>\\n<td align=\"right\"><font size=\"2\">63.8%</font></td>\\n<td align=\"center\"><font size=\"2\">2001^</font></td>\\n</tr>,\n",
       " <tr bgcolor=\"#f4f4ff\"><td align=\"center\"><font size=\"2\">44</font></td>\\n<td><font size=\"2\"><a href=\"/movies/?id=catchingfire.htm\"><b>The Hunger Games: Catching Fire</b></a></font></td>\\n<td><font size=\"2\">LGF</font></td>\\n<td align=\"right\"><font size=\"2\"><b>$865.0</b></font></td>\\n<td align=\"right\"><font size=\"2\">$424.7</font></td>\\n<td align=\"right\"><font size=\"2\">49.1%</font></td>\\n<td align=\"right\"><font size=\"2\">$440.3</font></td>\\n<td align=\"right\"><font size=\"2\">50.9%</font></td>\\n<td align=\"center\"><font size=\"2\">2013</font></td>\\n</tr>,\n",
       " <tr bgcolor=\"#ffffff\"><td align=\"center\"><font size=\"2\">45</font></td>\\n<td><font size=\"2\"><a href=\"/movies/?id=pixar2014.htm\"><b>Inside Out</b></a></font></td>\\n<td><font size=\"2\">BV</font></td>\\n<td align=\"right\"><font size=\"2\"><b>$856.8</b></font></td>\\n<td align=\"right\"><font size=\"2\">$356.5</font></td>\\n<td align=\"right\"><font size=\"2\">41.6%</font></td>\\n<td align=\"right\"><font size=\"2\">$500.3</font></td>\\n<td align=\"right\"><font size=\"2\">58.4%</font></td>\\n<td align=\"center\"><font size=\"2\">2015</font></td>\\n</tr>,\n",
       " <tr bgcolor=\"#f4f4ff\"><td align=\"center\"><font size=\"2\">46</font></td>\\n<td><font size=\"2\"><a href=\"/movies/?id=starwars3.htm\"><b>Star Wars: Episode III - Revenge of the Sith</b></a></font></td>\\n<td><font size=\"2\">Fox</font></td>\\n<td align=\"right\"><font size=\"2\"><b>$848.8</b></font></td>\\n<td align=\"right\"><font size=\"2\">$380.3</font></td>\\n<td align=\"right\"><font size=\"2\">44.8%</font></td>\\n<td align=\"right\"><font size=\"2\">$468.5</font></td>\\n<td align=\"right\"><font size=\"2\">55.2%</font></td>\\n<td align=\"center\"><font size=\"2\">2005^</font></td>\\n</tr>,\n",
       " <tr bgcolor=\"#ffffff\"><td align=\"center\"><font size=\"2\">47</font></td>\\n<td><font size=\"2\"><a href=\"/movies/?id=transformers2.htm\"><b>Transformers: Revenge of the Fallen</b></a></font></td>\\n<td><font size=\"2\">P/DW</font></td>\\n<td align=\"right\"><font size=\"2\"><b>$836.3</b></font></td>\\n<td align=\"right\"><font size=\"2\">$402.1</font></td>\\n<td align=\"right\"><font size=\"2\">48.1%</font></td>\\n<td align=\"right\"><font size=\"2\">$434.2</font></td>\\n<td align=\"right\"><font size=\"2\">51.9%</font></td>\\n<td align=\"center\"><font size=\"2\">2009</font></td>\\n</tr>,\n",
       " <tr bgcolor=\"#f4f4ff\"><td align=\"center\"><font size=\"2\">48</font></td>\\n<td><font size=\"2\"><a href=\"/movies/?id=breakingdawn2.htm\"><b>The Twilight Saga: Breaking Dawn Part 2</b></a></font></td>\\n<td><font size=\"2\">LG/S</font></td>\\n<td align=\"right\"><font size=\"2\"><b>$829.7</b></font></td>\\n<td align=\"right\"><font size=\"2\">$292.3</font></td>\\n<td align=\"right\"><font size=\"2\">35.2%</font></td>\\n<td align=\"right\"><font size=\"2\">$537.4</font></td>\\n<td align=\"right\"><font size=\"2\">64.8%</font></td>\\n<td align=\"center\"><font size=\"2\">2012</font></td>\\n</tr>,\n",
       " <tr bgcolor=\"#ffffff\"><td align=\"center\"><font size=\"2\">49</font></td>\\n<td><font size=\"2\"><a href=\"/movies/?id=inception.htm\"><b>Inception</b></a></font></td>\\n<td><font size=\"2\">WB</font></td>\\n<td align=\"right\"><font size=\"2\"><b>$825.5</b></font></td>\\n<td align=\"right\"><font size=\"2\">$292.6</font></td>\\n<td align=\"right\"><font size=\"2\">35.4%</font></td>\\n<td align=\"right\"><font size=\"2\">$533.0</font></td>\\n<td align=\"right\"><font size=\"2\">64.6%</font></td>\\n<td align=\"center\"><font size=\"2\">2010</font></td>\\n</tr>,\n",
       " <tr bgcolor=\"#f4f4ff\"><td align=\"center\"><font size=\"2\">50</font></td>\\n<td><font size=\"2\"><a href=\"/movies/?id=spiderman.htm\"><b>Spider-Man</b></a></font></td>\\n<td><font size=\"2\">Sony</font></td>\\n<td align=\"right\"><font size=\"2\"><b>$821.7</b></font></td>\\n<td align=\"right\"><font size=\"2\">$403.7</font></td>\\n<td align=\"right\"><font size=\"2\">49.1%</font></td>\\n<td align=\"right\"><font size=\"2\">$418.0</font></td>\\n<td align=\"right\"><font size=\"2\">50.9%</font></td>\\n<td align=\"center\"><font size=\"2\">2002</font></td>\\n</tr>,\n",
       " <tr bgcolor=\"#ffffff\"><td align=\"center\"><font size=\"2\">51</font></td>\\n<td><font size=\"2\"><a href=\"/movies/?id=independenceday.htm\"><b>Independence Day</b></a></font></td>\\n<td><font size=\"2\">Fox</font></td>\\n<td align=\"right\"><font size=\"2\"><b>$817.4</b></font></td>\\n<td align=\"right\"><font size=\"2\">$306.2</font></td>\\n<td align=\"right\"><font size=\"2\">37.5%</font></td>\\n<td align=\"right\"><font size=\"2\">$511.2</font></td>\\n<td align=\"right\"><font size=\"2\">62.5%</font></td>\\n<td align=\"center\"><font size=\"2\">1996^</font></td>\\n</tr>,\n",
       " <tr bgcolor=\"#f4f4ff\"><td align=\"center\"><font size=\"2\">52</font></td>\\n<td><font size=\"2\"><a href=\"/movies/?id=shrek3.htm\"><b>Shrek the Third</b></a></font></td>\\n<td><font size=\"2\">P/DW</font></td>\\n<td align=\"right\"><font size=\"2\"><b>$799.0</b></font></td>\\n<td align=\"right\"><font size=\"2\">$322.7</font></td>\\n<td align=\"right\"><font size=\"2\">40.4%</font></td>\\n<td align=\"right\"><font size=\"2\">$476.2</font></td>\\n<td align=\"right\"><font size=\"2\">59.6%</font></td>\\n<td align=\"center\"><font size=\"2\">2007</font></td>\\n</tr>,\n",
       " <tr bgcolor=\"#ffffff\"><td align=\"center\"><font size=\"2\">53</font></td>\\n<td><font size=\"2\"><a href=\"/movies/?id=harrypotter3.htm\"><b>Harry Potter and the Prisoner of Azkaban</b></a></font></td>\\n<td><font size=\"2\">WB</font></td>\\n<td align=\"right\"><font size=\"2\"><b>$796.7</b></font></td>\\n<td align=\"right\"><font size=\"2\">$249.5</font></td>\\n<td align=\"right\"><font size=\"2\">31.3%</font></td>\\n<td align=\"right\"><font size=\"2\">$547.1</font></td>\\n<td align=\"right\"><font size=\"2\">68.7%</font></td>\\n<td align=\"center\"><font size=\"2\">2004</font></td>\\n</tr>,\n",
       " <tr bgcolor=\"#f4f4ff\"><td align=\"center\"><font size=\"2\">54</font></td>\\n<td><font size=\"2\"><a href=\"/movies/?id=et.htm\"><b>E.T.: The Extra-Terrestrial</b></a></font></td>\\n<td><font size=\"2\">Uni.</font></td>\\n<td align=\"right\"><font size=\"2\"><b>$792.9</b></font></td>\\n<td align=\"right\"><font size=\"2\">$435.1</font></td>\\n<td align=\"right\"><font size=\"2\">54.9%</font></td>\\n<td align=\"right\"><font size=\"2\">$357.8</font></td>\\n<td align=\"right\"><font size=\"2\">45.1%</font></td>\\n<td align=\"center\"><font size=\"2\">1982^</font></td>\\n</tr>,\n",
       " <tr bgcolor=\"#ffffff\"><td align=\"center\"><font size=\"2\">55</font></td>\\n<td><font size=\"2\"><a href=\"/movies/?id=fast6.htm\"><b>Fast &amp; Furious 6</b></a></font></td>\\n<td><font size=\"2\">Uni.</font></td>\\n<td align=\"right\"><font size=\"2\"><b>$788.7</b></font></td>\\n<td align=\"right\"><font size=\"2\">$238.7</font></td>\\n<td align=\"right\"><font size=\"2\">30.3%</font></td>\\n<td align=\"right\"><font size=\"2\">$550.0</font></td>\\n<td align=\"right\"><font size=\"2\">69.7%</font></td>\\n<td align=\"center\"><font size=\"2\">2013</font></td>\\n</tr>,\n",
       " <tr bgcolor=\"#f4f4ff\"><td align=\"center\"><font size=\"2\">56</font></td>\\n<td><font size=\"2\"><a href=\"/movies/?id=indianajones4.htm\"><b>Indiana Jones and the Kingdom of the Crystal Skull</b></a></font></td>\\n<td><font size=\"2\">Par.</font></td>\\n<td align=\"right\"><font size=\"2\"><b>$786.6</b></font></td>\\n<td align=\"right\"><font size=\"2\">$317.1</font></td>\\n<td align=\"right\"><font size=\"2\">40.3%</font></td>\\n<td align=\"right\"><font size=\"2\">$469.5</font></td>\\n<td align=\"right\"><font size=\"2\">59.7%</font></td>\\n<td align=\"center\"><font size=\"2\">2008</font></td>\\n</tr>,\n",
       " <tr bgcolor=\"#ffffff\"><td align=\"center\"><font size=\"2\">57</font></td>\\n<td><font size=\"2\"><a href=\"/movies/?id=spiderman2.htm\"><b>Spider-Man 2</b></a></font></td>\\n<td><font size=\"2\">Sony</font></td>\\n<td align=\"right\"><font size=\"2\"><b>$783.8</b></font></td>\\n<td align=\"right\"><font size=\"2\">$373.6</font></td>\\n<td align=\"right\"><font size=\"2\">47.7%</font></td>\\n<td align=\"right\"><font size=\"2\">$410.2</font></td>\\n<td align=\"right\"><font size=\"2\">52.3%</font></td>\\n<td align=\"center\"><font size=\"2\">2004</font></td>\\n</tr>,\n",
       " <tr bgcolor=\"#f4f4ff\"><td align=\"center\"><font size=\"2\">58</font></td>\\n<td><font size=\"2\"><a href=\"/movies/?id=starwars4.htm\"><b>Star Wars</b></a></font></td>\\n<td><font size=\"2\">Fox</font></td>\\n<td align=\"right\"><font size=\"2\"><b>$775.4</b></font></td>\\n<td align=\"right\"><font size=\"2\">$461.0</font></td>\\n<td align=\"right\"><font size=\"2\">59.5%</font></td>\\n<td align=\"right\"><font size=\"2\">$314.4</font></td>\\n<td align=\"right\"><font size=\"2\">40.5%</font></td>\\n<td align=\"center\"><font size=\"2\">1977^</font></td>\\n</tr>,\n",
       " <tr bgcolor=\"#ffffff\"><td align=\"center\"><font size=\"2\">59</font></td>\\n<td><font size=\"2\"><a href=\"/movies/?id=marvel2014a.htm\"><b>Guardians of the Galaxy</b></a></font></td>\\n<td><font size=\"2\">BV</font></td>\\n<td align=\"right\"><font size=\"2\"><b>$773.3</b></font></td>\\n<td align=\"right\"><font size=\"2\">$333.2</font></td>\\n<td align=\"right\"><font size=\"2\">43.1%</font></td>\\n<td align=\"right\"><font size=\"2\">$440.1</font></td>\\n<td align=\"right\"><font size=\"2\">56.9%</font></td>\\n<td align=\"center\"><font size=\"2\">2014</font></td>\\n</tr>,\n",
       " <tr bgcolor=\"#f4f4ff\"><td align=\"center\"><font size=\"2\">60</font></td>\\n<td><font size=\"2\"><a href=\"/movies/?id=2012.htm\"><b>2012</b></a></font></td>\\n<td><font size=\"2\">Sony</font></td>\\n<td align=\"right\"><font size=\"2\"><b>$769.7</b></font></td>\\n<td align=\"right\"><font size=\"2\">$166.1</font></td>\\n<td align=\"right\"><font size=\"2\">21.6%</font></td>\\n<td align=\"right\"><font size=\"2\">$603.6</font></td>\\n<td align=\"right\"><font size=\"2\">78.4%</font></td>\\n<td align=\"center\"><font size=\"2\">2009</font></td>\\n</tr>,\n",
       " <tr bgcolor=\"#ffffff\"><td align=\"center\"><font size=\"2\">61</font></td>\\n<td><font size=\"2\"><a href=\"/movies/?id=maleficient.htm\"><b>Maleficent</b></a></font></td>\\n<td><font size=\"2\">BV</font></td>\\n<td align=\"right\"><font size=\"2\"><b>$758.5</b></font></td>\\n<td align=\"right\"><font size=\"2\">$241.4</font></td>\\n<td align=\"right\"><font size=\"2\">31.8%</font></td>\\n<td align=\"right\"><font size=\"2\">$517.1</font></td>\\n<td align=\"right\"><font size=\"2\">68.2%</font></td>\\n<td align=\"center\"><font size=\"2\">2014</font></td>\\n</tr>,\n",
       " <tr bgcolor=\"#f4f4ff\"><td align=\"center\"><font size=\"2\">62</font></td>\\n<td><font size=\"2\"><a href=\"/movies/?id=davincicode.htm\"><b>The Da Vinci Code</b></a></font></td>\\n<td><font size=\"2\">Sony</font></td>\\n<td align=\"right\"><font size=\"2\"><b>$758.2</b></font></td>\\n<td align=\"right\"><font size=\"2\">$217.5</font></td>\\n<td align=\"right\"><font size=\"2\">28.7%</font></td>\\n<td align=\"right\"><font size=\"2\">$540.7</font></td>\\n<td align=\"right\"><font size=\"2\">71.3%</font></td>\\n<td align=\"center\"><font size=\"2\">2006</font></td>\\n</tr>,\n",
       " <tr bgcolor=\"#ffffff\"><td align=\"center\"><font size=\"2\">63</font></td>\\n<td><font size=\"2\"><a href=\"/movies/?id=spiderman4.htm\"><b>The Amazing Spider-Man</b></a></font></td>\\n<td><font size=\"2\">Sony</font></td>\\n<td align=\"right\"><font size=\"2\"><b>$757.9</b></font></td>\\n<td align=\"right\"><font size=\"2\">$262.0</font></td>\\n<td align=\"right\"><font size=\"2\">34.6%</font></td>\\n<td align=\"right\"><font size=\"2\">$495.9</font></td>\\n<td align=\"right\"><font size=\"2\">65.4%</font></td>\\n<td align=\"center\"><font size=\"2\">2012</font></td>\\n</tr>,\n",
       " <tr bgcolor=\"#f4f4ff\"><td align=\"center\"><font size=\"2\">64</font></td>\\n<td><font size=\"2\"><a href=\"/movies/?id=hungergames3.htm\"><b>The Hunger Games: Mockingjay - Part 1</b></a></font></td>\\n<td><font size=\"2\">LGF</font></td>\\n<td align=\"right\"><font size=\"2\"><b>$755.4</b></font></td>\\n<td align=\"right\"><font size=\"2\">$337.1</font></td>\\n<td align=\"right\"><font size=\"2\">44.6%</font></td>\\n<td align=\"right\"><font size=\"2\">$418.2</font></td>\\n<td align=\"right\"><font size=\"2\">55.4%</font></td>\\n<td align=\"center\"><font size=\"2\">2014</font></td>\\n</tr>,\n",
       " <tr bgcolor=\"#ffffff\"><td align=\"center\"><font size=\"2\">65</font></td>\\n<td><font size=\"2\"><a href=\"/movies/?id=shrek4.htm\"><b>Shrek Forever After</b></a></font></td>\\n<td><font size=\"2\">P/DW</font></td>\\n<td align=\"right\"><font size=\"2\"><b>$752.6</b></font></td>\\n<td align=\"right\"><font size=\"2\">$238.7</font></td>\\n<td align=\"right\"><font size=\"2\">31.7%</font></td>\\n<td align=\"right\"><font size=\"2\">$513.9</font></td>\\n<td align=\"right\"><font size=\"2\">68.3%</font></td>\\n<td align=\"center\"><font size=\"2\">2010</font></td>\\n</tr>,\n",
       " <tr bgcolor=\"#f4f4ff\"><td align=\"center\"><font size=\"2\">66</font></td>\\n<td><font size=\"2\"><a href=\"/movies/?id=xmen2014.htm\"><b>X-Men: Days of Future Past</b></a></font></td>\\n<td><font size=\"2\">Fox</font></td>\\n<td align=\"right\"><font size=\"2\"><b>$747.9</b></font></td>\\n<td align=\"right\"><font size=\"2\">$233.9</font></td>\\n<td align=\"right\"><font size=\"2\">31.3%</font></td>\\n<td align=\"right\"><font size=\"2\">$513.9</font></td>\\n<td align=\"right\"><font size=\"2\">68.7%</font></td>\\n<td align=\"center\"><font size=\"2\">2014</font></td>\\n</tr>,\n",
       " <tr bgcolor=\"#ffffff\"><td align=\"center\"><font size=\"2\">67</font></td>\\n<td><font size=\"2\"><a href=\"/movies/?id=madagascar3.htm\"><b>Madagascar 3: Europe's Most Wanted</b></a></font></td>\\n<td><font size=\"2\">P/DW</font></td>\\n<td align=\"right\"><font size=\"2\"><b>$746.9</b></font></td>\\n<td align=\"right\"><font size=\"2\">$216.4</font></td>\\n<td align=\"right\"><font size=\"2\">29.0%</font></td>\\n<td align=\"right\"><font size=\"2\">$530.5</font></td>\\n<td align=\"right\"><font size=\"2\">71.0%</font></td>\\n<td align=\"center\"><font size=\"2\">2012</font></td>\\n</tr>,\n",
       " <tr bgcolor=\"#f4f4ff\"><td align=\"center\"><font size=\"2\">68</font></td>\\n<td><font size=\"2\"><a href=\"/movies/?id=narnia.htm\"><b>The Chronicles of Narnia: The Lion, the Witch and the Wardrobe</b></a></font></td>\\n<td><font size=\"2\">BV</font></td>\\n<td align=\"right\"><font size=\"2\"><b>$745.0</b></font></td>\\n<td align=\"right\"><font size=\"2\">$291.7</font></td>\\n<td align=\"right\"><font size=\"2\">39.2%</font></td>\\n<td align=\"right\"><font size=\"2\">$453.3</font></td>\\n<td align=\"right\"><font size=\"2\">60.8%</font></td>\\n<td align=\"center\"><font size=\"2\">2005</font></td>\\n</tr>,\n",
       " <tr bgcolor=\"#ffffff\"><td align=\"center\"><font size=\"2\">69</font></td>\\n<td><font size=\"2\"><a href=\"/movies/?id=monstersinc2.htm\"><b>Monsters University</b></a></font></td>\\n<td><font size=\"2\">BV</font></td>\\n<td align=\"right\"><font size=\"2\"><b>$743.6</b></font></td>\\n<td align=\"right\"><font size=\"2\">$268.5</font></td>\\n<td align=\"right\"><font size=\"2\">36.1%</font></td>\\n<td align=\"right\"><font size=\"2\">$475.1</font></td>\\n<td align=\"right\"><font size=\"2\">63.9%</font></td>\\n<td align=\"center\"><font size=\"2\">2013</font></td>\\n</tr>,\n",
       " <tr bgcolor=\"#f4f4ff\"><td align=\"center\"><font size=\"2\">70</font></td>\\n<td><font size=\"2\"><a href=\"/movies/?id=matrixreloaded.htm\"><b>The Matrix Reloaded</b></a></font></td>\\n<td><font size=\"2\">WB</font></td>\\n<td align=\"right\"><font size=\"2\"><b>$742.1</b></font></td>\\n<td align=\"right\"><font size=\"2\">$281.6</font></td>\\n<td align=\"right\"><font size=\"2\">37.9%</font></td>\\n<td align=\"right\"><font size=\"2\">$460.6</font></td>\\n<td align=\"right\"><font size=\"2\">62.1%</font></td>\\n<td align=\"center\"><font size=\"2\">2003</font></td>\\n</tr>,\n",
       " <tr bgcolor=\"#ffffff\"><td align=\"center\"><font size=\"2\">71</font></td>\\n<td><font size=\"2\"><a href=\"/movies/?id=up.htm\"><b>Up</b></a></font></td>\\n<td><font size=\"2\">BV</font></td>\\n<td align=\"right\"><font size=\"2\"><b>$731.3</b></font></td>\\n<td align=\"right\"><font size=\"2\">$293.0</font></td>\\n<td align=\"right\"><font size=\"2\">40.1%</font></td>\\n<td align=\"right\"><font size=\"2\">$438.3</font></td>\\n<td align=\"right\"><font size=\"2\">59.9%</font></td>\\n<td align=\"center\"><font size=\"2\">2009</font></td>\\n</tr>,\n",
       " <tr bgcolor=\"#f4f4ff\"><td align=\"center\"><font size=\"2\">72</font></td>\\n<td><font size=\"2\"><a href=\"/movies/?id=gravity.htm\"><b>Gravity</b></a></font></td>\\n<td><font size=\"2\">WB</font></td>\\n<td align=\"right\"><font size=\"2\"><b>$723.2</b></font></td>\\n<td align=\"right\"><font size=\"2\">$274.1</font></td>\\n<td align=\"right\"><font size=\"2\">37.9%</font></td>\\n<td align=\"right\"><font size=\"2\">$449.1</font></td>\\n<td align=\"right\"><font size=\"2\">62.1%</font></td>\\n<td align=\"center\"><font size=\"2\">2013</font></td>\\n</tr>,\n",
       " <tr bgcolor=\"#ffffff\"><td align=\"center\"><font size=\"2\">73</font></td>\\n<td><font size=\"2\"><a href=\"/movies/?id=marvel14b.htm\"><b>Captain America: The Winter Soldier</b></a></font></td>\\n<td><font size=\"2\">BV</font></td>\\n<td align=\"right\"><font size=\"2\"><b>$714.4</b></font></td>\\n<td align=\"right\"><font size=\"2\">$259.8</font></td>\\n<td align=\"right\"><font size=\"2\">36.4%</font></td>\\n<td align=\"right\"><font size=\"2\">$454.7</font></td>\\n<td align=\"right\"><font size=\"2\">63.6%</font></td>\\n<td align=\"center\"><font size=\"2\">2014</font></td>\\n</tr>,\n",
       " <tr bgcolor=\"#f4f4ff\"><td align=\"center\"><font size=\"2\">74</font></td>\\n<td><font size=\"2\"><a href=\"/movies/?id=breakingdawn.htm\"><b>The Twilight Saga: Breaking Dawn Part 1</b></a></font></td>\\n<td><font size=\"2\">Sum.</font></td>\\n<td align=\"right\"><font size=\"2\"><b>$712.2</b></font></td>\\n<td align=\"right\"><font size=\"2\">$281.3</font></td>\\n<td align=\"right\"><font size=\"2\">39.5%</font></td>\\n<td align=\"right\"><font size=\"2\">$430.9</font></td>\\n<td align=\"right\"><font size=\"2\">60.5%</font></td>\\n<td align=\"center\"><font size=\"2\">2011</font></td>\\n</tr>,\n",
       " <tr bgcolor=\"#ffffff\"><td align=\"center\"><font size=\"2\">75</font></td>\\n<td><font size=\"2\"><a href=\"/movies/?id=dawnoftheapes.htm\"><b>Dawn of the Planet of the Apes</b></a></font></td>\\n<td><font size=\"2\">Fox</font></td>\\n<td align=\"right\"><font size=\"2\"><b>$710.6</b></font></td>\\n<td align=\"right\"><font size=\"2\">$208.5</font></td>\\n<td align=\"right\"><font size=\"2\">29.3%</font></td>\\n<td align=\"right\"><font size=\"2\">$502.1</font></td>\\n<td align=\"right\"><font size=\"2\">70.7%</font></td>\\n<td align=\"center\"><font size=\"2\">2014</font></td>\\n</tr>,\n",
       " <tr bgcolor=\"#f4f4ff\"><td align=\"center\"><font size=\"2\">76</font></td>\\n<td><font size=\"2\"><a href=\"/movies/?id=newmoon.htm\"><b>The Twilight Saga: New Moon</b></a></font></td>\\n<td><font size=\"2\">Sum.</font></td>\\n<td align=\"right\"><font size=\"2\"><b>$709.7</b></font></td>\\n<td align=\"right\"><font size=\"2\">$296.6</font></td>\\n<td align=\"right\"><font size=\"2\">41.8%</font></td>\\n<td align=\"right\"><font size=\"2\">$413.1</font></td>\\n<td align=\"right\"><font size=\"2\">58.2%</font></td>\\n<td align=\"center\"><font size=\"2\">2009</font></td>\\n</tr>,\n",
       " <tr bgcolor=\"#ffffff\"><td align=\"center\"><font size=\"2\">77</font></td>\\n<td><font size=\"2\"><a href=\"/movies/?id=transformers06.htm\"><b>Transformers</b></a></font></td>\\n<td><font size=\"2\">P/DW</font></td>\\n<td align=\"right\"><font size=\"2\"><b>$709.7</b></font></td>\\n<td align=\"right\"><font size=\"2\">$319.2</font></td>\\n<td align=\"right\"><font size=\"2\">45.0%</font></td>\\n<td align=\"right\"><font size=\"2\">$390.5</font></td>\\n<td align=\"right\"><font size=\"2\">55.0%</font></td>\\n<td align=\"center\"><font size=\"2\">2007</font></td>\\n</tr>,\n",
       " <tr bgcolor=\"#f4f4ff\"><td align=\"center\"><font size=\"2\">78</font></td>\\n<td><font size=\"2\"><a href=\"/movies/?id=amazingspiderman2.htm\"><b>The Amazing Spider-Man 2</b></a></font></td>\\n<td><font size=\"2\">Sony</font></td>\\n<td align=\"right\"><font size=\"2\"><b>$709.0</b></font></td>\\n<td align=\"right\"><font size=\"2\">$202.9</font></td>\\n<td align=\"right\"><font size=\"2\">28.6%</font></td>\\n<td align=\"right\"><font size=\"2\">$506.1</font></td>\\n<td align=\"right\"><font size=\"2\">71.4%</font></td>\\n<td align=\"center\"><font size=\"2\">2014</font></td>\\n</tr>,\n",
       " <tr bgcolor=\"#ffffff\"><td align=\"center\"><font size=\"2\">79</font></td>\\n<td><font size=\"2\"><a href=\"/movies/?id=eclipse.htm\"><b>The Twilight Saga: Eclipse</b></a></font></td>\\n<td><font size=\"2\">Sum.</font></td>\\n<td align=\"right\"><font size=\"2\"><b>$698.5</b></font></td>\\n<td align=\"right\"><font size=\"2\">$300.5</font></td>\\n<td align=\"right\"><font size=\"2\">43.0%</font></td>\\n<td align=\"right\"><font size=\"2\">$398.0</font></td>\\n<td align=\"right\"><font size=\"2\">57.0%</font></td>\\n<td align=\"center\"><font size=\"2\">2010</font></td>\\n</tr>,\n",
       " <tr bgcolor=\"#f4f4ff\"><td align=\"center\"><font size=\"2\">80</font></td>\\n<td><font size=\"2\"><a href=\"/movies/?id=mi4.htm\"><b>Mission: Impossible - Ghost Protocol</b></a></font></td>\\n<td><font size=\"2\">Par.</font></td>\\n<td align=\"right\"><font size=\"2\"><b>$694.7</b></font></td>\\n<td align=\"right\"><font size=\"2\">$209.4</font></td>\\n<td align=\"right\"><font size=\"2\">30.1%</font></td>\\n<td align=\"right\"><font size=\"2\">$485.3</font></td>\\n<td align=\"right\"><font size=\"2\">69.9%</font></td>\\n<td align=\"center\"><font size=\"2\">2011</font></td>\\n</tr>,\n",
       " <tr bgcolor=\"#ffffff\"><td align=\"center\"><font size=\"2\">81</font></td>\\n<td><font size=\"2\"><a href=\"/movies/?id=hungergames.htm\"><b>The Hunger Games</b></a></font></td>\\n<td><font size=\"2\">LGF</font></td>\\n<td align=\"right\"><font size=\"2\"><b>$694.4</b></font></td>\\n<td align=\"right\"><font size=\"2\">$408.0</font></td>\\n<td align=\"right\"><font size=\"2\">58.8%</font></td>\\n<td align=\"right\"><font size=\"2\">$286.4</font></td>\\n<td align=\"right\"><font size=\"2\">41.2%</font></td>\\n<td align=\"center\"><font size=\"2\">2012</font></td>\\n</tr>,\n",
       " <tr bgcolor=\"#f4f4ff\"><td align=\"center\"><font size=\"2\">82</font></td>\\n<td><font size=\"2\"><a href=\"/movies/?id=mi5.htm\"><b>Mission: Impossible - Rogue Nation</b></a></font></td>\\n<td><font size=\"2\">Par.</font></td>\\n<td align=\"right\"><font size=\"2\"><b>$682.3</b></font></td>\\n<td align=\"right\"><font size=\"2\">$195.0</font></td>\\n<td align=\"right\"><font size=\"2\">28.6%</font></td>\\n<td align=\"right\"><font size=\"2\">$487.3</font></td>\\n<td align=\"right\"><font size=\"2\">71.4%</font></td>\\n<td align=\"center\"><font size=\"2\">2015</font></td>\\n</tr>,\n",
       " <tr bgcolor=\"#ffffff\"><td align=\"center\"><font size=\"2\">83</font></td>\\n<td><font size=\"2\"><a href=\"/movies/?id=forrestgump.htm\"><b>Forrest Gump</b></a></font></td>\\n<td><font size=\"2\">Par.</font></td>\\n<td align=\"right\"><font size=\"2\"><b>$677.9</b></font></td>\\n<td align=\"right\"><font size=\"2\">$330.3</font></td>\\n<td align=\"right\"><font size=\"2\">48.7%</font></td>\\n<td align=\"right\"><font size=\"2\">$347.7</font></td>\\n<td align=\"right\"><font size=\"2\">51.3%</font></td>\\n<td align=\"center\"><font size=\"2\">1994^</font></td>\\n</tr>,\n",
       " <tr bgcolor=\"#f4f4ff\"><td align=\"center\"><font size=\"2\">84</font></td>\\n<td><font size=\"2\"><a href=\"/movies/?id=interstellar.htm\"><b>Interstellar</b></a></font></td>\\n<td><font size=\"2\">Par.</font></td>\\n<td align=\"right\"><font size=\"2\"><b>$675.1</b></font></td>\\n<td align=\"right\"><font size=\"2\">$188.0</font></td>\\n<td align=\"right\"><font size=\"2\">27.8%</font></td>\\n<td align=\"right\"><font size=\"2\">$487.1</font></td>\\n<td align=\"right\"><font size=\"2\">72.2%</font></td>\\n<td align=\"center\"><font size=\"2\">2014</font></td>\\n</tr>,\n",
       " <tr bgcolor=\"#ffffff\"><td align=\"center\"><font size=\"2\">85</font></td>\\n<td><font size=\"2\"><a href=\"/movies/?id=sixthsense.htm\"><b>The Sixth Sense</b></a></font></td>\\n<td><font size=\"2\">BV</font></td>\\n<td align=\"right\"><font size=\"2\"><b>$672.8</b></font></td>\\n<td align=\"right\"><font size=\"2\">$293.5</font></td>\\n<td align=\"right\"><font size=\"2\">43.6%</font></td>\\n<td align=\"right\"><font size=\"2\">$379.3</font></td>\\n<td align=\"right\"><font size=\"2\">56.4%</font></td>\\n<td align=\"center\"><font size=\"2\">1999</font></td>\\n</tr>,\n",
       " <tr bgcolor=\"#f4f4ff\"><td align=\"center\"><font size=\"2\">86</font></td>\\n<td><font size=\"2\"><a href=\"/movies/?id=superman2012.htm\"><b>Man of Steel</b></a></font></td>\\n<td><font size=\"2\">WB</font></td>\\n<td align=\"right\"><font size=\"2\"><b>$668.0</b></font></td>\\n<td align=\"right\"><font size=\"2\">$291.0</font></td>\\n<td align=\"right\"><font size=\"2\">43.6%</font></td>\\n<td align=\"right\"><font size=\"2\">$377.0</font></td>\\n<td align=\"right\"><font size=\"2\">56.4%</font></td>\\n<td align=\"center\"><font size=\"2\">2013</font></td>\\n</tr>,\n",
       " <tr bgcolor=\"#ffffff\"><td align=\"center\"><font size=\"2\">87</font></td>\\n<td><font size=\"2\"><a href=\"/movies/?id=kungfupanda2.htm\"><b>Kung Fu Panda 2</b></a></font></td>\\n<td><font size=\"2\">P/DW</font></td>\\n<td align=\"right\"><font size=\"2\"><b>$665.7</b></font></td>\\n<td align=\"right\"><font size=\"2\">$165.2</font></td>\\n<td align=\"right\"><font size=\"2\">24.8%</font></td>\\n<td align=\"right\"><font size=\"2\">$500.4</font></td>\\n<td align=\"right\"><font size=\"2\">75.2%</font></td>\\n<td align=\"center\"><font size=\"2\">2011</font></td>\\n</tr>,\n",
       " <tr bgcolor=\"#f4f4ff\"><td align=\"center\"><font size=\"2\">88</font></td>\\n<td><font size=\"2\"><a href=\"/movies/?id=iceage2.htm\"><b>Ice Age: The Meltdown</b></a></font></td>\\n<td><font size=\"2\">Fox</font></td>\\n<td align=\"right\"><font size=\"2\"><b>$660.9</b></font></td>\\n<td align=\"right\"><font size=\"2\">$195.3</font></td>\\n<td align=\"right\"><font size=\"2\">29.6%</font></td>\\n<td align=\"right\"><font size=\"2\">$465.6</font></td>\\n<td align=\"right\"><font size=\"2\">70.4%</font></td>\\n<td align=\"center\"><font size=\"2\">2006</font></td>\\n</tr>,\n",
       " <tr bgcolor=\"#ffffff\"><td align=\"center\"><font size=\"2\">89</font></td>\\n<td><font size=\"2\"><a href=\"/movies/?id=disney2014.htm\"><b>Big Hero 6</b></a></font></td>\\n<td><font size=\"2\">BV</font></td>\\n<td align=\"right\"><font size=\"2\"><b>$657.8</b></font></td>\\n<td align=\"right\"><font size=\"2\">$222.5</font></td>\\n<td align=\"right\"><font size=\"2\">33.8%</font></td>\\n<td align=\"right\"><font size=\"2\">$435.3</font></td>\\n<td align=\"right\"><font size=\"2\">66.2%</font></td>\\n<td align=\"center\"><font size=\"2\">2014</font></td>\\n</tr>,\n",
       " <tr bgcolor=\"#f4f4ff\"><td align=\"center\"><font size=\"2\">90</font></td>\\n<td><font size=\"2\"><a href=\"/movies/?id=piratesofthecaribbean.htm\"><b>Pirates of the Caribbean: The Curse of the Black Pearl</b></a></font></td>\\n<td><font size=\"2\">BV</font></td>\\n<td align=\"right\"><font size=\"2\"><b>$654.3</b></font></td>\\n<td align=\"right\"><font size=\"2\">$305.4</font></td>\\n<td align=\"right\"><font size=\"2\">46.7%</font></td>\\n<td align=\"right\"><font size=\"2\">$348.9</font></td>\\n<td align=\"right\"><font size=\"2\">53.3%</font></td>\\n<td align=\"center\"><font size=\"2\">2003</font></td>\\n</tr>,\n",
       " <tr bgcolor=\"#FFFF99\"><td align=\"center\"><font size=\"2\">91</font></td>\\n<td><font size=\"2\"><a href=\"/movies/?id=hungergames4.htm\"><b>The Hunger Games: Mockingjay - Part 2</b></a></font></td>\\n<td><font size=\"2\">LGF</font></td>\\n<td align=\"right\"><font size=\"2\"><b>$651.2</b></font></td>\\n<td align=\"right\"><font size=\"2\">$280.3</font></td>\\n<td align=\"right\"><font size=\"2\">43.0%</font></td>\\n<td align=\"right\"><font size=\"2\">$370.9</font></td>\\n<td align=\"right\"><font size=\"2\">57.0%</font></td>\\n<td align=\"center\"><font size=\"2\">2015</font></td>\\n</tr>,\n",
       " <tr bgcolor=\"#f4f4ff\"><td align=\"center\"><font size=\"2\">92</font></td>\\n<td><font size=\"2\"><a href=\"/movies/?id=starwars2.htm\"><b>Star Wars: Episode II - Attack of the Clones</b></a></font></td>\\n<td><font size=\"2\">Fox</font></td>\\n<td align=\"right\"><font size=\"2\"><b>$649.4</b></font></td>\\n<td align=\"right\"><font size=\"2\">$310.7</font></td>\\n<td align=\"right\"><font size=\"2\">47.8%</font></td>\\n<td align=\"right\"><font size=\"2\">$338.7</font></td>\\n<td align=\"right\"><font size=\"2\">52.2%</font></td>\\n<td align=\"center\"><font size=\"2\">2002^</font></td>\\n</tr>,\n",
       " <tr bgcolor=\"#ffffff\"><td align=\"center\"><font size=\"2\">93</font></td>\\n<td><font size=\"2\"><a href=\"/movies/?id=thor2.htm\"><b>Thor: The Dark World</b></a></font></td>\\n<td><font size=\"2\">BV</font></td>\\n<td align=\"right\"><font size=\"2\"><b>$644.6</b></font></td>\\n<td align=\"right\"><font size=\"2\">$206.4</font></td>\\n<td align=\"right\"><font size=\"2\">32.0%</font></td>\\n<td align=\"right\"><font size=\"2\">$438.2</font></td>\\n<td align=\"right\"><font size=\"2\">68.0%</font></td>\\n<td align=\"center\"><font size=\"2\">2013</font></td>\\n</tr>,\n",
       " <tr bgcolor=\"#f4f4ff\"><td align=\"center\"><font size=\"2\">94</font></td>\\n<td><font size=\"2\"><a href=\"/movies/?id=kungfupanda.htm\"><b>Kung Fu Panda</b></a></font></td>\\n<td><font size=\"2\">P/DW</font></td>\\n<td align=\"right\"><font size=\"2\"><b>$631.7</b></font></td>\\n<td align=\"right\"><font size=\"2\">$215.4</font></td>\\n<td align=\"right\"><font size=\"2\">34.1%</font></td>\\n<td align=\"right\"><font size=\"2\">$416.3</font></td>\\n<td align=\"right\"><font size=\"2\">65.9%</font></td>\\n<td align=\"center\"><font size=\"2\">2008</font></td>\\n</tr>,\n",
       " <tr bgcolor=\"#ffffff\"><td align=\"center\"><font size=\"2\">95</font></td>\\n<td><font size=\"2\"><a href=\"/movies/?id=incredibles.htm\"><b>The Incredibles</b></a></font></td>\\n<td><font size=\"2\">BV</font></td>\\n<td align=\"right\"><font size=\"2\"><b>$631.4</b></font></td>\\n<td align=\"right\"><font size=\"2\">$261.4</font></td>\\n<td align=\"right\"><font size=\"2\">41.4%</font></td>\\n<td align=\"right\"><font size=\"2\">$370.0</font></td>\\n<td align=\"right\"><font size=\"2\">58.6%</font></td>\\n<td align=\"center\"><font size=\"2\">2004</font></td>\\n</tr>,\n",
       " <tr bgcolor=\"#f4f4ff\"><td align=\"center\"><font size=\"2\">96</font></td>\\n<td><font size=\"2\"><a href=\"/movies/?id=fastfive.htm\"><b>Fast Five</b></a></font></td>\\n<td><font size=\"2\">Uni.</font></td>\\n<td align=\"right\"><font size=\"2\"><b>$626.1</b></font></td>\\n<td align=\"right\"><font size=\"2\">$209.8</font></td>\\n<td align=\"right\"><font size=\"2\">33.5%</font></td>\\n<td align=\"right\"><font size=\"2\">$416.3</font></td>\\n<td align=\"right\"><font size=\"2\">66.5%</font></td>\\n<td align=\"center\"><font size=\"2\">2011</font></td>\\n</tr>,\n",
       " <tr bgcolor=\"#ffffff\"><td align=\"center\"><font size=\"2\">97</font></td>\\n<td><font size=\"2\"><a href=\"/movies/?id=hancock.htm\"><b>Hancock</b></a></font></td>\\n<td><font size=\"2\">Sony</font></td>\\n<td align=\"right\"><font size=\"2\"><b>$624.4</b></font></td>\\n<td align=\"right\"><font size=\"2\">$227.9</font></td>\\n<td align=\"right\"><font size=\"2\">36.5%</font></td>\\n<td align=\"right\"><font size=\"2\">$396.4</font></td>\\n<td align=\"right\"><font size=\"2\">63.5%</font></td>\\n<td align=\"center\"><font size=\"2\">2008</font></td>\\n</tr>,\n",
       " <tr bgcolor=\"#f4f4ff\"><td align=\"center\"><font size=\"2\">98</font></td>\\n<td><font size=\"2\"><a href=\"/movies/?id=mib3.htm\"><b>MIB 3</b></a></font></td>\\n<td><font size=\"2\">Sony</font></td>\\n<td align=\"right\"><font size=\"2\"><b>$624.0</b></font></td>\\n<td align=\"right\"><font size=\"2\">$179.0</font></td>\\n<td align=\"right\"><font size=\"2\">28.7%</font></td>\\n<td align=\"right\"><font size=\"2\">$445.0</font></td>\\n<td align=\"right\"><font size=\"2\">71.3%</font></td>\\n<td align=\"center\"><font size=\"2\">2012</font></td>\\n</tr>,\n",
       " <tr bgcolor=\"#ffffff\"><td align=\"center\"><font size=\"2\">99</font></td>\\n<td><font size=\"2\"><a href=\"/movies/?id=ironman2.htm\"><b>Iron Man 2</b></a></font></td>\\n<td><font size=\"2\">Par.</font></td>\\n<td align=\"right\"><font size=\"2\"><b>$623.9</b></font></td>\\n<td align=\"right\"><font size=\"2\">$312.4</font></td>\\n<td align=\"right\"><font size=\"2\">50.1%</font></td>\\n<td align=\"right\"><font size=\"2\">$311.5</font></td>\\n<td align=\"right\"><font size=\"2\">49.9%</font></td>\\n<td align=\"center\"><font size=\"2\">2010</font></td>\\n</tr>,\n",
       " <tr bgcolor=\"#f4f4ff\"><td align=\"center\"><font size=\"2\">100</font></td>\\n<td><font size=\"2\"><a href=\"/movies/?id=ratatouille.htm\"><b>Ratatouille</b></a></font></td>\\n<td><font size=\"2\">BV</font></td>\\n<td align=\"right\"><font size=\"2\"><b>$623.7</b></font></td>\\n<td align=\"right\"><font size=\"2\">$206.4</font></td>\\n<td align=\"right\"><font size=\"2\">33.1%</font></td>\\n<td align=\"right\"><font size=\"2\">$417.3</font></td>\\n<td align=\"right\"><font size=\"2\">66.9%</font></td>\\n<td align=\"center\"><font size=\"2\">2007</font></td>\\n</tr>]"
      ]
     },
     "execution_count": 2,
     "metadata": {},
     "output_type": "execute_result"
    }
   ],
   "source": [
    "from pprint import pprint\n",
    "import collections\n",
    "import urlparse\n",
    "import bs4\n",
    "import requests\n",
    "\n",
    "\n",
    "def ahref_to_string(link):\n",
    "    string = str(link)\n",
    "    try:\n",
    "        movie_title = string.split('=')[2].split('.')[0]\n",
    "        return movie_title\n",
    "    except IndexError:\n",
    "        print \"?????NOT A MOVIE?????\\n\", link\n",
    "\n",
    "def get_movie_names(list_of_movies_links):\n",
    "    movie_title_list = []\n",
    "\n",
    "    for link in list_of_movies_links:\n",
    "        movie_name = ahref_to_string(link)\n",
    "        movie_title_list.append(movie_name)\n",
    "    return movie_title_list\n",
    "\n",
    "\n",
    "# def main():\n",
    "URL1 = \"http://www.boxofficemojo.com/alltime/world/\"\n",
    "# URL2 = \"http://www.boxofficemojo.com/alltime/world/?sort=year&order=DESC&pagenum=2&p=.htm\"\n",
    "response = requests.get(URL1)\n",
    "raw_html = response.text\n",
    "\n",
    "# soup = bs4.BeautifulSoup(raw_html)\n",
    "# dict_of_movies = collections.defaultdict(dict)\n",
    "# list_of_movies_links = soup.find_all('a')[44:]\n",
    "# list_of_movies_names = get_movie_names(list_of_movies_links)\n",
    "\n",
    "soup = bs4.BeautifulSoup(raw_html)\n",
    "tables = soup.find_all('table')\n",
    "movie_table = tables[2]\n",
    "movie_table.find_all('tr')\n",
    "# cell = rows[1].find_all('td')\n",
    "# cell_contents = cell[0].find('font')\n",
    "# pprint(cell_contents)\n",
    "\n",
    "    \n",
    "\n",
    "# main()"
   ]
  },
  {
   "cell_type": "markdown",
   "metadata": {},
   "source": [
    "http://www.boxofficemojo.com/movies/alphabetical.htm?letter=A&p=.htm\n",
    "\n",
    "different subheading\n",
    "http://www.boxofficemojo.com/movies/alphabetical.htm?letter=A&page=2&p=.htm\n",
    "\n",
    "different main heading\n",
    "http://www.boxofficemojo.com/movies/alphabetical.htm?letter=B&p=.htm\n",
    "\n",
    "different sub heading\n",
    "http://www.boxofficemojo.com/movies/alphabetical.htm?letter=B&page=2&p=.htm"
   ]
  },
  {
   "cell_type": "markdown",
   "metadata": {},
   "source": [
    "schema\n",
    "base_url + ?letter={letter}&p={pagenum}"
   ]
  },
  {
   "cell_type": "code",
   "execution_count": 213,
   "metadata": {
    "collapsed": false
   },
   "outputs": [
    {
     "data": {
      "text/plain": [
       "'8/11/2000'"
      ]
     },
     "execution_count": 213,
     "metadata": {},
     "output_type": "execute_result"
    }
   ],
   "source": [
    "from pprint import pprint\n",
    "import collections\n",
    "import urlparse\n",
    "from bs4 import BeautifulSoup as bs\n",
    "import requests\n",
    "\n",
    "BASE_URL = \"http://www.boxofficemojo.com/movies/alphabetical.htm?\"\n",
    "SLUG = \"alphabetical.htm?letter={letter}&page={page}&p=.htm\"\n",
    "\n",
    "LETTERS = map(chr, range(65, 91))\n",
    "\n",
    "def gen_list_of_urls():\n",
    "    list_of_urls = []\n",
    "    for letter in LETTERS:\n",
    "        for number in range(0,100):\n",
    "            url = urlparse.urljoin(BASE_URL, SLUG.format(letter=letter, page=3))\n",
    "            response = requests.get(url)\n",
    "    return list_of_urls\n",
    "\n",
    "movies_dict = collections.defaultdict(dict)\n",
    "\n",
    "### first let's get the data from one page\n",
    "url = urlparse.urljoin(BASE_URL, SLUG.format(letter=\"A\", page=3))\n",
    "response = requests.get(url)\n",
    "raw_html = response.text\n",
    "\n",
    "### movies appear to start at row 5\n",
    "soup = bs(raw_html)\n",
    "\n",
    "### Rows\n",
    "rows = soup.find_all('tr')\n",
    "row = rows[7]\n",
    "\n",
    "    ### Cells\n",
    "cells = row.find_all('td')\n",
    "\n",
    "        ### title\n",
    "movie_title = str(cells[0]).split('=')[5].split('.')[0]\n",
    "\n",
    "        ### studio\n",
    "studio = str(cells[1])\n",
    "studio\n",
    "\n",
    "        ### Total Gross\n",
    "cell = cells[2]\n",
    "total_gross = str(cell).split('>')[2].split('<')[0]\n",
    "total_gross\n",
    "\n",
    "        ### Theaters for total Gross\n",
    "cell = cells[3]\n",
    "entry = cell.find_all('font')\n",
    "theaters = str(entry).split('>')[1].split('<')[0]\n",
    "theaters\n",
    "\n",
    "        ### Opening\n",
    "    \n",
    "cell = cells[4]\n",
    "entry = cell.find_all('font')\n",
    "opening = str(cell).split('>')[2].split('<')[0]\n",
    "opening\n",
    "\n",
    "        ### Theaters at opening\n",
    "    \n",
    "cell = cells[5]\n",
    "entry = cell.find_all('font')\n",
    "theaters_at_opening = str(entry[0]).split('>')[1].split('<')[0]\n",
    "theaters_at_opening\n",
    "\n",
    "        ### Date of Opening\n",
    "cell = cells[6]\n",
    "entry = cell\n",
    "date_of_opening = str(entry).split('>')[3].split('<')[0]\n",
    "date_of_opening\n",
    "\n",
    "\n",
    "# entry = cell.find_all('font')\n",
    "# entry\n",
    "\n",
    "# bodys = table.find_all('tr')\n",
    "# bodys\n",
    "# TableSchema = collections.namedtuple('table_schema', ['movie',\n",
    "#                                                       'studio',\n",
    "#                                                       'total_gross',\n",
    "#                                                       'opening',\n",
    "#                                                       'theaters',\n",
    "#                                                       'open_date'])\n",
    "\n",
    "\n",
    "    "
   ]
  },
  {
   "cell_type": "code",
   "execution_count": 223,
   "metadata": {
    "collapsed": false
   },
   "outputs": [
    {
     "data": {
      "text/plain": [
       "'FL'"
      ]
     },
     "execution_count": 223,
     "metadata": {},
     "output_type": "execute_result"
    }
   ],
   "source": [
    "str(row.find_all('td')[1]).split('>')[2].split('<')[0]"
   ]
  },
  {
   "cell_type": "markdown",
   "metadata": {},
   "source": [
    "**4b.** As we figure out each one, convert the process into a function so that it becomes reuseable."
   ]
  },
  {
   "cell_type": "code",
   "execution_count": null,
   "metadata": {
    "collapsed": false
   },
   "outputs": [],
   "source": []
  },
  {
   "cell_type": "markdown",
   "metadata": {},
   "source": [
    "**4c.** If a function gets too complicated, let's pull out helper methods "
   ]
  },
  {
   "cell_type": "code",
   "execution_count": null,
   "metadata": {
    "collapsed": true
   },
   "outputs": [],
   "source": []
  },
  {
   "cell_type": "markdown",
   "metadata": {},
   "source": [
    "## Generalizing\n",
    "\n",
    "Now that we can scrape one movie page, we can use our code to scrape any movie page on this website. Hopefully. \n",
    "\n",
    "**Step 5.** Make one function to create a movie page information object for a given url"
   ]
  },
  {
   "cell_type": "code",
   "execution_count": null,
   "metadata": {
    "collapsed": true
   },
   "outputs": [],
   "source": []
  },
  {
   "cell_type": "markdown",
   "metadata": {},
   "source": [
    "**Step 6.** Use our function on new pages\n",
    "\n",
    "**6a.** Create a list of urls to scrape"
   ]
  },
  {
   "cell_type": "code",
   "execution_count": null,
   "metadata": {
    "collapsed": true
   },
   "outputs": [],
   "source": []
  },
  {
   "cell_type": "markdown",
   "metadata": {},
   "source": [
    "**Step 7.** Turn our work into a reuseable module."
   ]
  }
 ],
 "metadata": {
  "kernelspec": {
   "display_name": "Python 2",
   "language": "python",
   "name": "python2"
  },
  "language_info": {
   "codemirror_mode": {
    "name": "ipython",
    "version": 2
   },
   "file_extension": ".py",
   "mimetype": "text/x-python",
   "name": "python",
   "nbconvert_exporter": "python",
   "pygments_lexer": "ipython2",
   "version": "2.7.9"
  }
 },
 "nbformat": 4,
 "nbformat_minor": 0
}
